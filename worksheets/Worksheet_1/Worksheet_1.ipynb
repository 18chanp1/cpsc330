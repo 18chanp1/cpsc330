{
 "cells": [
  {
   "cell_type": "code",
   "execution_count": 1,
   "id": "bba68e5f",
   "metadata": {
    "deletable": false,
    "editable": false
   },
   "outputs": [],
   "source": [
    "# Initialize Otter\n",
    "import otter\n",
    "grader = otter.Notebook(\"Worksheet_1.ipynb\")"
   ]
  },
  {
   "cell_type": "markdown",
   "id": "1d5132b7-52ce-43c7-85c3-4029dc3e74c0",
   "metadata": {
    "tags": []
   },
   "source": [
    "# Worksheet 1: Terminology and decision trees"
   ]
  },
  {
   "cell_type": "markdown",
   "id": "fcb8ed3b-01fa-48bb-ba67-fabf7e7b15c8",
   "metadata": {
    "tags": []
   },
   "source": [
    "## Imports"
   ]
  },
  {
   "cell_type": "code",
   "execution_count": 2,
   "id": "02ac3f62-9694-4354-bc77-81a397d1a4a4",
   "metadata": {},
   "outputs": [],
   "source": [
    "# Load necessary libraries\n",
    "from sklearn.tree import DecisionTreeClassifier, DecisionTreeRegressor, plot_tree\n",
    "import matplotlib.pyplot as plt\n",
    "import re\n",
    "import sys\n",
    "from hashlib import sha1\n",
    "from IPython.display import Image\n",
    "import numpy as np\n",
    "import pandas as pd\n",
    "from sklearn.dummy import DummyClassifier\n",
    "from sklearn import tree"
   ]
  },
  {
   "cell_type": "markdown",
   "id": "2b3ab773-d3e4-4be7-a44f-65494680652d",
   "metadata": {},
   "source": [
    "<br><br>"
   ]
  },
  {
   "cell_type": "markdown",
   "id": "0c2869d7-7906-4294-979a-51e5cb1914a7",
   "metadata": {},
   "source": [
    "## Instructions\n",
    "\n",
    "This worksheet is intended to help you revise and reinforce what you've learned in the lecture. You are welcome to broadly discuss questions with your classmates but your final answers must be your own. **We are not allowing group submission for worksheets.** The worksheets are fully autograded using the Gradescope's autograder tool, `otter grader`. If you have successfully installed the course environment, you should have `otter grader` in `cpsc330` environment. If not, follow the instructions below.  \n",
    "\n",
    "- Go to the command line/terminal.\n",
    "- Activate the course conda environment and install `otter-grader` using the following command.\n",
    "\n",
    "    ```\n",
    "    conda activate cpsc330\n",
    "    pip install otter-grader\n",
    "    ```\n",
    "\n",
    "The cell at the top of the notebook will throw an error if you do not install `otter-grader`. Once you are done with the worksheet, follow the instructions below before the submission. \n",
    "\n",
    "1. Run all cells in your notebook to make sure there are no errors by doing `Kernel -> Restart Kernel and Clear All Outputs` and then `Run -> Run All Cells`. \n",
    "2. Upload the worksheet using Gradescope's drag and drop tool. Make sure to access Gradescope via [Canvas](https://canvas.ubc.ca/courses/123439). Check out this [Gradescope Student Guide](https://lthub.ubc.ca/guides/gradescope-student-guide/) if you need help with Gradescope submission. \n",
    "3. Make sure that the plots and output are rendered properly in your submitted file."
   ]
  },
  {
   "cell_type": "markdown",
   "id": "16e684e6-4c60-4879-887e-bb5ee91d06b1",
   "metadata": {},
   "source": [
    "<br>\n",
    "<br>"
   ]
  },
  {
   "cell_type": "markdown",
   "id": "82e2781f-850a-4b77-8760-b516de18fe41",
   "metadata": {},
   "source": [
    "## Exercise 1"
   ]
  },
  {
   "cell_type": "markdown",
   "id": "fc12078f-ab23-4fe8-b667-4937274125dc",
   "metadata": {
    "deletable": false,
    "editable": false,
    "tags": []
   },
   "source": [
    "### 1.1 Terminology\n",
    "rubric={autograde}\n",
    "\n",
    "**Your Task:**\n",
    "<br>Complete each of the following sentences using the provided machine learning terminologies for the list below. Remember, each term can only be used once!\n",
    "\n",
    "**List of Terms (in no particular order):**\n",
    "\n",
    "    a) hyperparameters\n",
    "    b) training\n",
    "    c) tree depth\n",
    "    d) parameters\n",
    "    e) example/data point\n",
    "    f) features\n",
    "    g) target\n",
    "    h) root node\n",
    "    i) branch\n",
    "    j) leaf node\n",
    "    \n",
    "\n",
    "1. When working with data, each row or instance, containing both feature values and the corresponding target, is called an  ________.\n",
    "\n",
    "2. Before delving into modeling, we must specify certain settings that influence the learning process; these are known as ________.\n",
    "\n",
    "3. After training my model, it acquires values such as which features to focus on and the threshold for splitting them; these are termed _________.\n",
    "\n",
    "4. In decision trees, the starting point, the initial question we ask, is referred to as the ________.\n",
    "\n",
    "5. The total number of steps or jumps from the initial question all the way to the final prediction in a decision tree is known as the ________."
   ]
  },
  {
   "cell_type": "markdown",
   "id": "b30c0a69-2a77-40a4-bdb6-2469c1a71c73",
   "metadata": {
    "deletable": false,
    "editable": false,
    "tags": []
   },
   "source": [
    "<div class=\"alert alert-warning\">\n",
    "\n",
    "Solution_1.1\n",
    "    \n",
    "</div>\n",
    "\n",
    "_Points:_ 3"
   ]
  },
  {
   "cell_type": "code",
   "execution_count": 3,
   "id": "2e88489e-3267-4c7a-ba3f-92801c82cda0",
   "metadata": {
    "tags": []
   },
   "outputs": [],
   "source": [
    "# format your answer like this: terminology = ['x','x','x','x','x']\n",
    "terminology = ['e', 'a', 'd', 'h', 'c']"
   ]
  },
  {
   "cell_type": "code",
   "execution_count": 4,
   "id": "7c22ecf1",
   "metadata": {
    "deletable": false,
    "editable": false
   },
   "outputs": [
    {
     "data": {
      "text/html": [
       "<p><strong><pre style='display: inline;'>q1.1</pre></strong> passed! 🎉</p>"
      ],
      "text/plain": [
       "q1.1 results: All test cases passed!"
      ]
     },
     "execution_count": 4,
     "metadata": {},
     "output_type": "execute_result"
    }
   ],
   "source": [
    "grader.check(\"q1.1\")"
   ]
  },
  {
   "cell_type": "markdown",
   "id": "5659a4be-df54-43ff-8719-01d4efc2a1c3",
   "metadata": {},
   "source": [
    "<br><br><br><br>"
   ]
  },
  {
   "cell_type": "markdown",
   "id": "d1113e32-8328-4f0b-a593-903b82f4392d",
   "metadata": {
    "tags": []
   },
   "source": [
    "## Exercise 2: Decision trees with a toy dataset\n",
    "\n",
    "Suppose you have three different job offers with comparable salaries and job descriptions. You want to decide which one to accept, and you want to make this decision based on which job is likely to make you happy. Being a very systematic person, you come up with three features associated with the offers, which are important for your happiness: whether the colleagues are supportive, whether there is work-hour flexibility, and whether the company is a start-up or not. So the `X` of your offer data looks as follows:"
   ]
  },
  {
   "cell_type": "markdown",
   "id": "80ad6cd2-6f7e-436a-a211-b4c1e0b53828",
   "metadata": {
    "tags": []
   },
   "source": [
    "#### Defining the dataset"
   ]
  },
  {
   "cell_type": "code",
   "execution_count": 5,
   "id": "7b1aef0a-a43a-4cc4-99b6-78fa2b4cbec0",
   "metadata": {},
   "outputs": [
    {
     "data": {
      "text/html": [
       "<div>\n",
       "<style scoped>\n",
       "    .dataframe tbody tr th:only-of-type {\n",
       "        vertical-align: middle;\n",
       "    }\n",
       "\n",
       "    .dataframe tbody tr th {\n",
       "        vertical-align: top;\n",
       "    }\n",
       "\n",
       "    .dataframe thead th {\n",
       "        text-align: right;\n",
       "    }\n",
       "</style>\n",
       "<table border=\"1\" class=\"dataframe\">\n",
       "  <thead>\n",
       "    <tr style=\"text-align: right;\">\n",
       "      <th></th>\n",
       "      <th>supportive_colleagues</th>\n",
       "      <th>work_hour_flexibility</th>\n",
       "      <th>start_up</th>\n",
       "    </tr>\n",
       "  </thead>\n",
       "  <tbody>\n",
       "    <tr>\n",
       "      <th>0</th>\n",
       "      <td>1</td>\n",
       "      <td>0</td>\n",
       "      <td>0</td>\n",
       "    </tr>\n",
       "    <tr>\n",
       "      <th>1</th>\n",
       "      <td>0</td>\n",
       "      <td>0</td>\n",
       "      <td>1</td>\n",
       "    </tr>\n",
       "    <tr>\n",
       "      <th>2</th>\n",
       "      <td>0</td>\n",
       "      <td>1</td>\n",
       "      <td>1</td>\n",
       "    </tr>\n",
       "    <tr>\n",
       "      <th>3</th>\n",
       "      <td>1</td>\n",
       "      <td>1</td>\n",
       "      <td>1</td>\n",
       "    </tr>\n",
       "  </tbody>\n",
       "</table>\n",
       "</div>"
      ],
      "text/plain": [
       "   supportive_colleagues  work_hour_flexibility  start_up\n",
       "0                      1                      0         0\n",
       "1                      0                      0         1\n",
       "2                      0                      1         1\n",
       "3                      1                      1         1"
      ]
     },
     "execution_count": 5,
     "metadata": {},
     "output_type": "execute_result"
    }
   ],
   "source": [
    "offer_data = {\n",
    "    # Features\n",
    "    \"supportive_colleagues\": [1, 0, 0, 1],\n",
    "    \"work_hour_flexibility\": [0, 0, 1, 1],\n",
    "    \"start_up\": [0, 1, 1, 1],    \n",
    "}\n",
    "\n",
    "offer_df = pd.DataFrame(offer_data)\n",
    "offer_df"
   ]
  },
  {
   "cell_type": "markdown",
   "id": "e599467e-7cc3-43ef-a2a9-379b12e2ba23",
   "metadata": {},
   "source": [
    "Your goal is to get predictions for these rows. In other words, for each row, you want to predict whether that job would make you <b>happy</b> or <b>unhappy</b>.\n",
    "\n",
    "So you ask the following questions to some of your friends (who you think have similar notions of happiness) regarding their jobs:\n",
    "\n",
    "    1. Do you have supportive colleagues? (1 for 'yes' and 0 for 'no')\n",
    "    2. Do you have flexible work hours? (1 for 'yes' and 0 for 'no')\n",
    "    3. Do you work for a start-up? (1 for 'start up' and 0 for 'non start up')\n",
    "    4. Are you happy in your job? (happy or unhappy)\n",
    "\n",
    "Suppose you get the following data from this toy survey. You decide to train a machine learning model using this toy survey data and use this model to predict which job from <b>offer_df</b> is likely to make you happy.\n"
   ]
  },
  {
   "cell_type": "code",
   "execution_count": 6,
   "id": "50053ace-e16c-4b56-b714-47e03d33127d",
   "metadata": {},
   "outputs": [
    {
     "data": {
      "text/html": [
       "<div>\n",
       "<style scoped>\n",
       "    .dataframe tbody tr th:only-of-type {\n",
       "        vertical-align: middle;\n",
       "    }\n",
       "\n",
       "    .dataframe tbody tr th {\n",
       "        vertical-align: top;\n",
       "    }\n",
       "\n",
       "    .dataframe thead th {\n",
       "        text-align: right;\n",
       "    }\n",
       "</style>\n",
       "<table border=\"1\" class=\"dataframe\">\n",
       "  <thead>\n",
       "    <tr style=\"text-align: right;\">\n",
       "      <th></th>\n",
       "      <th>supportive_colleagues</th>\n",
       "      <th>work_hour_flexibility</th>\n",
       "      <th>start_up</th>\n",
       "      <th>target</th>\n",
       "    </tr>\n",
       "  </thead>\n",
       "  <tbody>\n",
       "    <tr>\n",
       "      <th>0</th>\n",
       "      <td>1</td>\n",
       "      <td>1</td>\n",
       "      <td>1</td>\n",
       "      <td>happy</td>\n",
       "    </tr>\n",
       "    <tr>\n",
       "      <th>1</th>\n",
       "      <td>1</td>\n",
       "      <td>1</td>\n",
       "      <td>0</td>\n",
       "      <td>happy</td>\n",
       "    </tr>\n",
       "    <tr>\n",
       "      <th>2</th>\n",
       "      <td>1</td>\n",
       "      <td>0</td>\n",
       "      <td>1</td>\n",
       "      <td>happy</td>\n",
       "    </tr>\n",
       "    <tr>\n",
       "      <th>3</th>\n",
       "      <td>0</td>\n",
       "      <td>1</td>\n",
       "      <td>0</td>\n",
       "      <td>unhappy</td>\n",
       "    </tr>\n",
       "    <tr>\n",
       "      <th>4</th>\n",
       "      <td>0</td>\n",
       "      <td>1</td>\n",
       "      <td>1</td>\n",
       "      <td>unhappy</td>\n",
       "    </tr>\n",
       "    <tr>\n",
       "      <th>5</th>\n",
       "      <td>1</td>\n",
       "      <td>0</td>\n",
       "      <td>0</td>\n",
       "      <td>happy</td>\n",
       "    </tr>\n",
       "    <tr>\n",
       "      <th>6</th>\n",
       "      <td>1</td>\n",
       "      <td>1</td>\n",
       "      <td>0</td>\n",
       "      <td>happy</td>\n",
       "    </tr>\n",
       "    <tr>\n",
       "      <th>7</th>\n",
       "      <td>0</td>\n",
       "      <td>0</td>\n",
       "      <td>1</td>\n",
       "      <td>unhappy</td>\n",
       "    </tr>\n",
       "    <tr>\n",
       "      <th>8</th>\n",
       "      <td>1</td>\n",
       "      <td>0</td>\n",
       "      <td>1</td>\n",
       "      <td>unhappy</td>\n",
       "    </tr>\n",
       "    <tr>\n",
       "      <th>9</th>\n",
       "      <td>0</td>\n",
       "      <td>0</td>\n",
       "      <td>0</td>\n",
       "      <td>unhappy</td>\n",
       "    </tr>\n",
       "  </tbody>\n",
       "</table>\n",
       "</div>"
      ],
      "text/plain": [
       "   supportive_colleagues  work_hour_flexibility  start_up   target\n",
       "0                      1                      1         1    happy\n",
       "1                      1                      1         0    happy\n",
       "2                      1                      0         1    happy\n",
       "3                      0                      1         0  unhappy\n",
       "4                      0                      1         1  unhappy\n",
       "5                      1                      0         0    happy\n",
       "6                      1                      1         0    happy\n",
       "7                      0                      0         1  unhappy\n",
       "8                      1                      0         1  unhappy\n",
       "9                      0                      0         0  unhappy"
      ]
     },
     "execution_count": 6,
     "metadata": {},
     "output_type": "execute_result"
    }
   ],
   "source": [
    "import pandas as pd\n",
    "\n",
    "happiness_data = {\n",
    "    # Features\n",
    "    \"supportive_colleagues\": [1, 1, 1, 0, 0, 1, 1, 0, 1, 0],\n",
    "    \"work_hour_flexibility\": [1, 1, 0, 1, 1, 0, 1, 0, 0, 0],\n",
    "    \"start_up\": [1, 0, 1, 0, 1, 0, 0, 1, 1, 0],\n",
    "    # Target\n",
    "    \"target\": [\n",
    "        \"happy\",\n",
    "        \"happy\",\n",
    "        \"happy\",\n",
    "        \"unhappy\",\n",
    "        \"unhappy\",\n",
    "        \"happy\",\n",
    "        \"happy\",\n",
    "        \"unhappy\",\n",
    "        \"unhappy\",\n",
    "        \"unhappy\",\n",
    "    ],\n",
    "}\n",
    "\n",
    "train_df = pd.DataFrame(happiness_data)\n",
    "train_df"
   ]
  },
  {
   "cell_type": "markdown",
   "id": "4af8d296-1dfb-42f6-8ba1-26d901976a06",
   "metadata": {
    "deletable": false,
    "editable": false,
    "tags": []
   },
   "source": [
    "### 2.1 Decision stump by hand\n",
    "rubric={autograde}\n",
    "    \n",
    "<b>Your tasks:</b>\n",
    "\n",
    "With this toy dataset, build a decision stump (decision tree with only 1 split) by hand, splitting on the condition supportive_colleagues <= 0.5. What training accuracy would you get with this decision stump? Save the accuracy as a decimal in an object named <b>supportive_colleagues_acc</b>.\n",
    "\n",
    "    You do not have to show any calculations or code.\n"
   ]
  },
  {
   "cell_type": "markdown",
   "id": "0fa41cd2-67af-4022-b05b-270d2066284c",
   "metadata": {
    "deletable": false,
    "editable": false,
    "tags": []
   },
   "source": [
    "<div class=\"alert alert-warning\">\n",
    "\n",
    "Solution_2.1\n",
    "    \n",
    "</div>\n",
    "\n",
    "_Points:_ 1"
   ]
  },
  {
   "cell_type": "code",
   "execution_count": 7,
   "id": "fa707f3f-735a-4f3c-b829-9d5b12d9a0bc",
   "metadata": {
    "scrolled": true,
    "tags": []
   },
   "outputs": [],
   "source": [
    "supportive_colleagues_acc = 0.9"
   ]
  },
  {
   "cell_type": "code",
   "execution_count": 8,
   "id": "26a35350",
   "metadata": {
    "deletable": false,
    "editable": false
   },
   "outputs": [
    {
     "data": {
      "text/html": [
       "<p><strong><pre style='display: inline;'>q2.1</pre></strong> passed! 🎉</p>"
      ],
      "text/plain": [
       "q2.1 results: All test cases passed!"
      ]
     },
     "execution_count": 8,
     "metadata": {},
     "output_type": "execute_result"
    }
   ],
   "source": [
    "grader.check(\"q2.1\")"
   ]
  },
  {
   "cell_type": "markdown",
   "id": "f728a65c-ed01-4b99-9400-7dca629e7771",
   "metadata": {},
   "source": [
    "<br>\n",
    "<br>"
   ]
  },
  {
   "cell_type": "markdown",
   "id": "97e706f0-b570-4307-b362-1f10c48ef6f7",
   "metadata": {
    "deletable": false,
    "editable": false,
    "tags": []
   },
   "source": [
    "### 2.2 Separating features and target\n",
    "rubric={autograde}\n",
    "\n",
    "<br>Recall that in `scikit-learn`, before building a classifier, we need to separate features and target.\n",
    "\n",
    "<b>Your task:</b>\n",
    "<br>Separate features and target from `train_df` and save them in `X_train_toy` and `y_train_toy`, respectively."
   ]
  },
  {
   "cell_type": "markdown",
   "id": "506bbc4c-2511-44e4-9e41-da250a067881",
   "metadata": {
    "deletable": false,
    "editable": false,
    "tags": []
   },
   "source": [
    "<div class=\"alert alert-warning\">\n",
    "\n",
    "Solution_2.2\n",
    "    \n",
    "</div>\n",
    "\n",
    "_Points:_ 1"
   ]
  },
  {
   "cell_type": "code",
   "execution_count": 9,
   "id": "fd78e463-0c08-4d10-a20e-3c39b649e66c",
   "metadata": {
    "scrolled": true,
    "tags": []
   },
   "outputs": [],
   "source": [
    "X_train_toy = train_df.iloc[0:10,0:3]\n",
    "y_train_toy = train_df[\"target\"]"
   ]
  },
  {
   "cell_type": "code",
   "execution_count": 10,
   "id": "b4435776",
   "metadata": {
    "deletable": false,
    "editable": false
   },
   "outputs": [
    {
     "data": {
      "text/html": [
       "<p><strong><pre style='display: inline;'>q2.2</pre></strong> passed! 💯</p>"
      ],
      "text/plain": [
       "q2.2 results: All test cases passed!"
      ]
     },
     "execution_count": 10,
     "metadata": {},
     "output_type": "execute_result"
    }
   ],
   "source": [
    "grader.check(\"q2.2\")"
   ]
  },
  {
   "cell_type": "markdown",
   "id": "0f6c1d7a-618e-40ca-9067-5cc4ce5159b7",
   "metadata": {},
   "source": [
    "<br><br>"
   ]
  },
  {
   "cell_type": "markdown",
   "id": "7815fc0a-bdde-4d94-a346-b6a983e31138",
   "metadata": {
    "deletable": false,
    "editable": false,
    "tags": []
   },
   "source": [
    "### 2.3 Creating a decision tree classifier object\n",
    "rubric={autograde}\n",
    "\n",
    "<b>Your tasks:</b>\n",
    "<br>Create a `DecisionTreeClassifier` object with `random_state=16` and store it in a variable called `toy_tree`."
   ]
  },
  {
   "cell_type": "markdown",
   "id": "f93e727c-d6e4-4ce1-947d-0b97fb63eea2",
   "metadata": {
    "deletable": false,
    "editable": false,
    "tags": []
   },
   "source": [
    "<div class=\"alert alert-warning\">\n",
    "\n",
    "Solution_2.3\n",
    "    \n",
    "</div>\n",
    "\n",
    "_Points:_ 1"
   ]
  },
  {
   "cell_type": "code",
   "execution_count": 11,
   "id": "a2380ec5-3ba5-4e8e-9392-0ce695da07ea",
   "metadata": {
    "scrolled": true,
    "tags": []
   },
   "outputs": [],
   "source": [
    "toy_tree = DecisionTreeClassifier(random_state=16)"
   ]
  },
  {
   "cell_type": "code",
   "execution_count": 12,
   "id": "95309891",
   "metadata": {
    "deletable": false,
    "editable": false
   },
   "outputs": [
    {
     "data": {
      "text/html": [
       "<p><strong><pre style='display: inline;'>q2.3</pre></strong> passed! 🎉</p>"
      ],
      "text/plain": [
       "q2.3 results: All test cases passed!"
      ]
     },
     "execution_count": 12,
     "metadata": {},
     "output_type": "execute_result"
    }
   ],
   "source": [
    "grader.check(\"q2.3\")"
   ]
  },
  {
   "cell_type": "markdown",
   "id": "02c0932f-a2a4-4804-917c-12c60fcbf571",
   "metadata": {},
   "source": [
    "<br><br>"
   ]
  },
  {
   "cell_type": "markdown",
   "id": "37dea4f7-2573-48ce-93b5-d7f5f2066e42",
   "metadata": {
    "deletable": false,
    "editable": false,
    "tags": []
   },
   "source": [
    "### 2.4 `fit` the decision tree classifier\n",
    "rubric={autograde}\n",
    "\n",
    "<b>Your tasks:</b>\n",
    "<br>Now train a decision tree model by calling fit on `toy_tree` with `X_train_toy` and `y_train_toy` created above."
   ]
  },
  {
   "cell_type": "markdown",
   "id": "e516ad1e-0352-405b-8179-121d7a8efbf1",
   "metadata": {
    "deletable": false,
    "editable": false
   },
   "source": [
    "<div class=\"alert alert-warning\">\n",
    "\n",
    "Solution_2.4\n",
    "    \n",
    "</div>\n",
    "\n",
    "_Points:_ 1"
   ]
  },
  {
   "cell_type": "code",
   "execution_count": 13,
   "id": "483bb10d-4c66-490c-a44d-910fe73b5a66",
   "metadata": {
    "scrolled": true,
    "tags": []
   },
   "outputs": [
    {
     "data": {
      "text/html": [
       "<style>#sk-container-id-1 {color: black;}#sk-container-id-1 pre{padding: 0;}#sk-container-id-1 div.sk-toggleable {background-color: white;}#sk-container-id-1 label.sk-toggleable__label {cursor: pointer;display: block;width: 100%;margin-bottom: 0;padding: 0.3em;box-sizing: border-box;text-align: center;}#sk-container-id-1 label.sk-toggleable__label-arrow:before {content: \"▸\";float: left;margin-right: 0.25em;color: #696969;}#sk-container-id-1 label.sk-toggleable__label-arrow:hover:before {color: black;}#sk-container-id-1 div.sk-estimator:hover label.sk-toggleable__label-arrow:before {color: black;}#sk-container-id-1 div.sk-toggleable__content {max-height: 0;max-width: 0;overflow: hidden;text-align: left;background-color: #f0f8ff;}#sk-container-id-1 div.sk-toggleable__content pre {margin: 0.2em;color: black;border-radius: 0.25em;background-color: #f0f8ff;}#sk-container-id-1 input.sk-toggleable__control:checked~div.sk-toggleable__content {max-height: 200px;max-width: 100%;overflow: auto;}#sk-container-id-1 input.sk-toggleable__control:checked~label.sk-toggleable__label-arrow:before {content: \"▾\";}#sk-container-id-1 div.sk-estimator input.sk-toggleable__control:checked~label.sk-toggleable__label {background-color: #d4ebff;}#sk-container-id-1 div.sk-label input.sk-toggleable__control:checked~label.sk-toggleable__label {background-color: #d4ebff;}#sk-container-id-1 input.sk-hidden--visually {border: 0;clip: rect(1px 1px 1px 1px);clip: rect(1px, 1px, 1px, 1px);height: 1px;margin: -1px;overflow: hidden;padding: 0;position: absolute;width: 1px;}#sk-container-id-1 div.sk-estimator {font-family: monospace;background-color: #f0f8ff;border: 1px dotted black;border-radius: 0.25em;box-sizing: border-box;margin-bottom: 0.5em;}#sk-container-id-1 div.sk-estimator:hover {background-color: #d4ebff;}#sk-container-id-1 div.sk-parallel-item::after {content: \"\";width: 100%;border-bottom: 1px solid gray;flex-grow: 1;}#sk-container-id-1 div.sk-label:hover label.sk-toggleable__label {background-color: #d4ebff;}#sk-container-id-1 div.sk-serial::before {content: \"\";position: absolute;border-left: 1px solid gray;box-sizing: border-box;top: 0;bottom: 0;left: 50%;z-index: 0;}#sk-container-id-1 div.sk-serial {display: flex;flex-direction: column;align-items: center;background-color: white;padding-right: 0.2em;padding-left: 0.2em;position: relative;}#sk-container-id-1 div.sk-item {position: relative;z-index: 1;}#sk-container-id-1 div.sk-parallel {display: flex;align-items: stretch;justify-content: center;background-color: white;position: relative;}#sk-container-id-1 div.sk-item::before, #sk-container-id-1 div.sk-parallel-item::before {content: \"\";position: absolute;border-left: 1px solid gray;box-sizing: border-box;top: 0;bottom: 0;left: 50%;z-index: -1;}#sk-container-id-1 div.sk-parallel-item {display: flex;flex-direction: column;z-index: 1;position: relative;background-color: white;}#sk-container-id-1 div.sk-parallel-item:first-child::after {align-self: flex-end;width: 50%;}#sk-container-id-1 div.sk-parallel-item:last-child::after {align-self: flex-start;width: 50%;}#sk-container-id-1 div.sk-parallel-item:only-child::after {width: 0;}#sk-container-id-1 div.sk-dashed-wrapped {border: 1px dashed gray;margin: 0 0.4em 0.5em 0.4em;box-sizing: border-box;padding-bottom: 0.4em;background-color: white;}#sk-container-id-1 div.sk-label label {font-family: monospace;font-weight: bold;display: inline-block;line-height: 1.2em;}#sk-container-id-1 div.sk-label-container {text-align: center;}#sk-container-id-1 div.sk-container {/* jupyter's `normalize.less` sets `[hidden] { display: none; }` but bootstrap.min.css set `[hidden] { display: none !important; }` so we also need the `!important` here to be able to override the default hidden behavior on the sphinx rendered scikit-learn.org. See: https://github.com/scikit-learn/scikit-learn/issues/21755 */display: inline-block !important;position: relative;}#sk-container-id-1 div.sk-text-repr-fallback {display: none;}</style><div id=\"sk-container-id-1\" class=\"sk-top-container\"><div class=\"sk-text-repr-fallback\"><pre>DecisionTreeClassifier(random_state=16)</pre><b>In a Jupyter environment, please rerun this cell to show the HTML representation or trust the notebook. <br />On GitHub, the HTML representation is unable to render, please try loading this page with nbviewer.org.</b></div><div class=\"sk-container\" hidden><div class=\"sk-item\"><div class=\"sk-estimator sk-toggleable\"><input class=\"sk-toggleable__control sk-hidden--visually\" id=\"sk-estimator-id-1\" type=\"checkbox\" checked><label for=\"sk-estimator-id-1\" class=\"sk-toggleable__label sk-toggleable__label-arrow\">DecisionTreeClassifier</label><div class=\"sk-toggleable__content\"><pre>DecisionTreeClassifier(random_state=16)</pre></div></div></div></div></div>"
      ],
      "text/plain": [
       "DecisionTreeClassifier(random_state=16)"
      ]
     },
     "execution_count": 13,
     "metadata": {},
     "output_type": "execute_result"
    }
   ],
   "source": [
    "toy_tree.fit(X_train_toy, y_train_toy)"
   ]
  },
  {
   "cell_type": "code",
   "execution_count": 14,
   "id": "502b337f",
   "metadata": {
    "deletable": false,
    "editable": false
   },
   "outputs": [
    {
     "data": {
      "text/html": [
       "<p><strong><pre style='display: inline;'>q2.4</pre></strong> passed! 🙌</p>"
      ],
      "text/plain": [
       "q2.4 results: All test cases passed!"
      ]
     },
     "execution_count": 14,
     "metadata": {},
     "output_type": "execute_result"
    }
   ],
   "source": [
    "grader.check(\"q2.4\")"
   ]
  },
  {
   "cell_type": "markdown",
   "id": "29e942dd-d172-4d14-a31b-43f3b8613136",
   "metadata": {},
   "source": [
    "<br><br>"
   ]
  },
  {
   "cell_type": "markdown",
   "id": "253d6ae0-8a8c-44ad-ba5a-c0d6ad1b7adc",
   "metadata": {
    "deletable": false,
    "editable": false,
    "tags": []
   },
   "source": [
    "### 2.5 Visualizing the trained decision tree\n",
    "rubric={autograde}\n",
    "\n",
    "**Your tasks:**\n",
    "<br>Visualize the trained decision tree model using the [`tree.plot`](https://scikit-learn.org/stable/modules/generated/sklearn.tree.plot_tree.html) method in `sklearn` by passing appropriate values for the following arguments: \n",
    "- `feature_names`\n",
    "- `class_names`\n",
    "  \n",
    "Save the visualization tree returned by the function below in a variable called `toy_tree_viz`."
   ]
  },
  {
   "cell_type": "code",
   "execution_count": 15,
   "id": "d50d5a15-02e0-4a8d-a1bd-f6bd2139648c",
   "metadata": {
    "deletable": false,
    "editable": false
   },
   "outputs": [
    {
     "data": {
      "text/html": [
       "<div>\n",
       "<style scoped>\n",
       "    .dataframe tbody tr th:only-of-type {\n",
       "        vertical-align: middle;\n",
       "    }\n",
       "\n",
       "    .dataframe tbody tr th {\n",
       "        vertical-align: top;\n",
       "    }\n",
       "\n",
       "    .dataframe thead th {\n",
       "        text-align: right;\n",
       "    }\n",
       "</style>\n",
       "<table border=\"1\" class=\"dataframe\">\n",
       "  <thead>\n",
       "    <tr style=\"text-align: right;\">\n",
       "      <th></th>\n",
       "      <th>supportive_colleagues</th>\n",
       "      <th>work_hour_flexibility</th>\n",
       "      <th>start_up</th>\n",
       "    </tr>\n",
       "  </thead>\n",
       "  <tbody>\n",
       "    <tr>\n",
       "      <th>0</th>\n",
       "      <td>1</td>\n",
       "      <td>1</td>\n",
       "      <td>1</td>\n",
       "    </tr>\n",
       "    <tr>\n",
       "      <th>1</th>\n",
       "      <td>1</td>\n",
       "      <td>1</td>\n",
       "      <td>0</td>\n",
       "    </tr>\n",
       "    <tr>\n",
       "      <th>2</th>\n",
       "      <td>1</td>\n",
       "      <td>0</td>\n",
       "      <td>1</td>\n",
       "    </tr>\n",
       "    <tr>\n",
       "      <th>3</th>\n",
       "      <td>0</td>\n",
       "      <td>1</td>\n",
       "      <td>0</td>\n",
       "    </tr>\n",
       "    <tr>\n",
       "      <th>4</th>\n",
       "      <td>0</td>\n",
       "      <td>1</td>\n",
       "      <td>1</td>\n",
       "    </tr>\n",
       "    <tr>\n",
       "      <th>5</th>\n",
       "      <td>1</td>\n",
       "      <td>0</td>\n",
       "      <td>0</td>\n",
       "    </tr>\n",
       "    <tr>\n",
       "      <th>6</th>\n",
       "      <td>1</td>\n",
       "      <td>1</td>\n",
       "      <td>0</td>\n",
       "    </tr>\n",
       "    <tr>\n",
       "      <th>7</th>\n",
       "      <td>0</td>\n",
       "      <td>0</td>\n",
       "      <td>1</td>\n",
       "    </tr>\n",
       "    <tr>\n",
       "      <th>8</th>\n",
       "      <td>1</td>\n",
       "      <td>0</td>\n",
       "      <td>1</td>\n",
       "    </tr>\n",
       "    <tr>\n",
       "      <th>9</th>\n",
       "      <td>0</td>\n",
       "      <td>0</td>\n",
       "      <td>0</td>\n",
       "    </tr>\n",
       "  </tbody>\n",
       "</table>\n",
       "</div>"
      ],
      "text/plain": [
       "   supportive_colleagues  work_hour_flexibility  start_up\n",
       "0                      1                      1         1\n",
       "1                      1                      1         0\n",
       "2                      1                      0         1\n",
       "3                      0                      1         0\n",
       "4                      0                      1         1\n",
       "5                      1                      0         0\n",
       "6                      1                      1         0\n",
       "7                      0                      0         1\n",
       "8                      1                      0         1\n",
       "9                      0                      0         0"
      ]
     },
     "execution_count": 15,
     "metadata": {},
     "output_type": "execute_result"
    }
   ],
   "source": [
    "X_train_toy"
   ]
  },
  {
   "cell_type": "markdown",
   "id": "ab2a12b6-d490-4b7f-b150-de8e1ef51e99",
   "metadata": {
    "deletable": false,
    "editable": false
   },
   "source": [
    "<div class=\"alert alert-warning\">\n",
    "\n",
    "Solution_2.5\n",
    "    \n",
    "</div>\n",
    "\n",
    "_Points:_ 1"
   ]
  },
  {
   "cell_type": "code",
   "execution_count": 16,
   "id": "9ed70e3b-277f-4494-b017-49d4ca3c70b2",
   "metadata": {
    "tags": []
   },
   "outputs": [
    {
     "data": {
      "image/png": "[encoded data removed]",
      "text/plain": [
       "<Figure size 640x480 with 1 Axes>"
      ]
     },
     "metadata": {},
     "output_type": "display_data"
    }
   ],
   "source": [
    " feature_names = [\"supportive_colleagues\", \"work_hour_flexibility\", \"start_up\"]\n",
    "class_names = [\"happy\", \"unhappy\"]\n",
    "toy_tree_viz = tree.plot_tree(toy_tree, feature_names = feature_names, class_names=class_names)\n"
   ]
  },
  {
   "cell_type": "code",
   "execution_count": 17,
   "id": "55a5582f",
   "metadata": {
    "deletable": false,
    "editable": false
   },
   "outputs": [
    {
     "data": {
      "text/html": [
       "<p><strong><pre style='display: inline;'>q2.5</pre></strong> passed! 🍀</p>"
      ],
      "text/plain": [
       "q2.5 results: All test cases passed!"
      ]
     },
     "execution_count": 17,
     "metadata": {},
     "output_type": "execute_result"
    }
   ],
   "source": [
    "grader.check(\"q2.5\")"
   ]
  },
  {
   "cell_type": "markdown",
   "id": "c9e15dea-0513-4627-8d02-7f280fd11d41",
   "metadata": {},
   "source": [
    "<br><br>"
   ]
  },
  {
   "cell_type": "markdown",
   "id": "508da87a-0a75-4b60-bd5c-24dc5d837748",
   "metadata": {
    "deletable": false,
    "editable": false,
    "tags": []
   },
   "source": [
    "### Exercise 2.6 Depth of the tree\n",
    "rubric={autograde}\n",
    "\n",
    "**Your tasks:**\n",
    "<br>What's the depth of the learned decision tree model? Save it as an integer in the variable `toy_depth` below. "
   ]
  },
  {
   "cell_type": "markdown",
   "id": "1810fb16-dcaf-4f46-9a38-45ccdf68a5a5",
   "metadata": {
    "deletable": false,
    "editable": false
   },
   "source": [
    "<div class=\"alert alert-warning\">\n",
    "\n",
    "Solution_2.6\n",
    "    \n",
    "</div>\n",
    "\n",
    "_Points:_ 1"
   ]
  },
  {
   "cell_type": "code",
   "execution_count": 18,
   "id": "5b620371-7e65-4e32-bfc9-cf737278bb90",
   "metadata": {
    "scrolled": true,
    "tags": []
   },
   "outputs": [],
   "source": [
    "toy_depth = toy_tree.get_depth()"
   ]
  },
  {
   "cell_type": "code",
   "execution_count": 19,
   "id": "4506daff",
   "metadata": {
    "deletable": false,
    "editable": false
   },
   "outputs": [
    {
     "data": {
      "text/html": [
       "<p><strong><pre style='display: inline;'>q2.</pre></strong> passed! 🙌</p>"
      ],
      "text/plain": [
       "q2. results: All test cases passed!"
      ]
     },
     "execution_count": 19,
     "metadata": {},
     "output_type": "execute_result"
    }
   ],
   "source": [
    "grader.check(\"q2.\")"
   ]
  },
  {
   "cell_type": "markdown",
   "id": "fbf8f6ea-3648-4195-b59a-ab7f2b33262b",
   "metadata": {},
   "source": [
    "<br><br>"
   ]
  },
  {
   "cell_type": "markdown",
   "id": "6fefaa37-ac79-45b5-a18d-08a3c6b393a2",
   "metadata": {
    "deletable": false,
    "editable": false,
    "tags": []
   },
   "source": [
    "### Exercise 2.7 Accuracy calculation\n",
    "rubric={autograde}\n",
    "\n",
    "**Your tasks:**\n",
    "<br>Evaluate the `toy_tree` on the training data (i.e., call `score()` on `X_train_toy` and `y_train_toy`) and store the score in a variable called `train_acc`."
   ]
  },
  {
   "cell_type": "markdown",
   "id": "73ba8cce-3692-40b0-a53f-35863ed1505d",
   "metadata": {
    "deletable": false,
    "editable": false
   },
   "source": [
    "<div class=\"alert alert-warning\">\n",
    "\n",
    "Solution_2.7\n",
    "    \n",
    "</div>\n",
    "\n",
    "_Points:_ 1"
   ]
  },
  {
   "cell_type": "code",
   "execution_count": 20,
   "id": "4d6831e7-1fc9-4217-b60a-e6df47f451ec",
   "metadata": {
    "scrolled": true,
    "tags": []
   },
   "outputs": [],
   "source": [
    "train_acc = toy_tree.score(X_train_toy, y_train_toy)"
   ]
  },
  {
   "cell_type": "code",
   "execution_count": 21,
   "id": "336c1fd3",
   "metadata": {
    "deletable": false,
    "editable": false
   },
   "outputs": [
    {
     "data": {
      "text/html": [
       "<p><strong><pre style='display: inline;'>q2.7</pre></strong> passed! 🍀</p>"
      ],
      "text/plain": [
       "q2.7 results: All test cases passed!"
      ]
     },
     "execution_count": 21,
     "metadata": {},
     "output_type": "execute_result"
    }
   ],
   "source": [
    "grader.check(\"q2.7\")"
   ]
  },
  {
   "cell_type": "markdown",
   "id": "53c00496-3d7a-4311-83ee-31ee4e2285a7",
   "metadata": {
    "tags": []
   },
   "source": [
    "<br><br>"
   ]
  },
  {
   "cell_type": "markdown",
   "id": "41fe1526-cf75-4f4b-b19e-2a583b0f5fd5",
   "metadata": {
    "tags": []
   },
   "source": [
    "### (Optional) Discussion\n",
    "<br>Do you get perfect training accuracy? Why or why not? "
   ]
  },
  {
   "cell_type": "markdown",
   "id": "1eb9067f-08db-4d05-98fe-b33715fdf14c",
   "metadata": {},
   "source": [
    "<br><br>"
   ]
  },
  {
   "cell_type": "markdown",
   "id": "d3e211f4-3c94-48ae-8885-50482b32ac94",
   "metadata": {
    "deletable": false,
    "editable": false,
    "tags": []
   },
   "source": [
    "### Exercise 2.8 Predicting on the offer data\n",
    "rubric={autograde}\n",
    "\n",
    "Recall that our goal is to predict in which jobs you are likely to be happy. The `offer_df` dataframe below has all the job offers you have received. \n",
    "\n",
    "**Your tasks:**\n",
    "</br>Using the trained decision tree above, predict the targets for all examples in `offer_df` and store them as a list in the `predictions` variable below. In which jobs you are likely to be happy? Add index(es) of all examples where you are likely to be happy to the `happy_job_indices` list below."
   ]
  },
  {
   "cell_type": "code",
   "execution_count": 22,
   "id": "95511ccc-546e-4c72-a7a1-1e44e3c5df00",
   "metadata": {
    "deletable": false,
    "editable": false
   },
   "outputs": [
    {
     "data": {
      "text/html": [
       "<div>\n",
       "<style scoped>\n",
       "    .dataframe tbody tr th:only-of-type {\n",
       "        vertical-align: middle;\n",
       "    }\n",
       "\n",
       "    .dataframe tbody tr th {\n",
       "        vertical-align: top;\n",
       "    }\n",
       "\n",
       "    .dataframe thead th {\n",
       "        text-align: right;\n",
       "    }\n",
       "</style>\n",
       "<table border=\"1\" class=\"dataframe\">\n",
       "  <thead>\n",
       "    <tr style=\"text-align: right;\">\n",
       "      <th></th>\n",
       "      <th>supportive_colleagues</th>\n",
       "      <th>work_hour_flexibility</th>\n",
       "      <th>start_up</th>\n",
       "    </tr>\n",
       "  </thead>\n",
       "  <tbody>\n",
       "    <tr>\n",
       "      <th>0</th>\n",
       "      <td>1</td>\n",
       "      <td>0</td>\n",
       "      <td>0</td>\n",
       "    </tr>\n",
       "    <tr>\n",
       "      <th>1</th>\n",
       "      <td>0</td>\n",
       "      <td>0</td>\n",
       "      <td>1</td>\n",
       "    </tr>\n",
       "    <tr>\n",
       "      <th>2</th>\n",
       "      <td>0</td>\n",
       "      <td>1</td>\n",
       "      <td>1</td>\n",
       "    </tr>\n",
       "    <tr>\n",
       "      <th>3</th>\n",
       "      <td>1</td>\n",
       "      <td>1</td>\n",
       "      <td>1</td>\n",
       "    </tr>\n",
       "  </tbody>\n",
       "</table>\n",
       "</div>"
      ],
      "text/plain": [
       "   supportive_colleagues  work_hour_flexibility  start_up\n",
       "0                      1                      0         0\n",
       "1                      0                      0         1\n",
       "2                      0                      1         1\n",
       "3                      1                      1         1"
      ]
     },
     "execution_count": 22,
     "metadata": {},
     "output_type": "execute_result"
    }
   ],
   "source": [
    "offer_df"
   ]
  },
  {
   "cell_type": "markdown",
   "id": "29f3294d-ad90-4d0f-a8d2-919fbb0261de",
   "metadata": {
    "deletable": false,
    "editable": false
   },
   "source": [
    "<div class=\"alert alert-warning\">\n",
    "\n",
    "Solution_2.8\n",
    "    \n",
    "</div>\n",
    "\n",
    "_Points:_ 2"
   ]
  },
  {
   "cell_type": "code",
   "execution_count": 23,
   "id": "f3b56c3f-f7e5-4028-bf6a-5ea2a6ea9bf8",
   "metadata": {
    "scrolled": true,
    "tags": []
   },
   "outputs": [],
   "source": [
    "predictions = list(toy_tree.predict(offer_df))\n",
    "happy_job_indices = []\n",
    "for i, happiness in enumerate(predictions):\n",
    "    if happiness == \"happy\":\n",
    "        happy_job_indices.append(i)"
   ]
  },
  {
   "cell_type": "code",
   "execution_count": 24,
   "id": "fc5b4e93",
   "metadata": {
    "deletable": false,
    "editable": false
   },
   "outputs": [
    {
     "data": {
      "text/html": [
       "<p><strong><pre style='display: inline;'>q2.8</pre></strong> passed! ✨</p>"
      ],
      "text/plain": [
       "q2.8 results: All test cases passed!"
      ]
     },
     "execution_count": 24,
     "metadata": {},
     "output_type": "execute_result"
    }
   ],
   "source": [
    "grader.check(\"q2.8\")"
   ]
  },
  {
   "cell_type": "markdown",
   "id": "323230e6-c4ef-4189-9f41-8008853215ff",
   "metadata": {},
   "source": [
    "<br><br><br><br>"
   ]
  },
  {
   "cell_type": "markdown",
   "id": "a53f125a-dd4a-42af-a80e-adbb5598447f",
   "metadata": {
    "tags": []
   },
   "source": [
    "## Playground: Housing price prediction with decision tree models in Sunny California\n",
    "\n",
    "**This exercise is for exploration purposes only and does not carry any points.** \n",
    "\n",
    "In our previous exercise, we used Decision Trees for a classification task with our toy dataset. However, it's important to note that Decision Trees aren't confined solely to classification tasks; they are equally valuable when tackling regression problems.\n",
    "\n",
    "<br>In this interactive session, we will address a regression task using the 'California housing dataset.' This dataset comprises real-world housing data from California, including features such as median income, housing average age, and more. Our objective is to use a Decision Tree Regressor to make predictions about the median house value based on the available features.\n",
    "\n",
    "We will experiment with varying the depth of our Decision Tree to observe its impact on the model. You will witness how adjustments to the Decision Tree's complexity influence its decision boundaries. However, in this instance, our focus shifts to predicting a continuous value (median house value), as opposed to dealing with discrete classes ('happy' or 'unhappy')\n",
    "\n",
    "**Your tasks:**\n",
    "<br>Use the interactive slider to investigate various depths for the Decision Tree and take note of the resulting changes in the model's score and the tree's complexity. Enjoy exploring the flexibility and adaptability of Decision Trees!\n",
    "\n",
    "If you want to get it working locally, you'll have to install the following packages. \n",
    "\n",
    "- In CPSC 330 environment, install\n",
    "    - `conda install -c conda-forge panel` or `pip install panel`\n",
    "    - `conda install -n cpsc330 -c conda-forge ipywidgets`\n",
    "    \n",
    "- Assuming that your Jupyter Lab is in the `base` environment, install `panel` and `jupyterlab_widgets` in that environment\n",
    "  - `conda install -n base -c conda-forge jupyterlab_widgets`\n",
    "  - `conda install -n base -c conda-forge panel`\n",
    "    "
   ]
  },
  {
   "cell_type": "code",
   "execution_count": 25,
   "id": "60f1fbc4-bf7d-4abb-a97b-90b83e076836",
   "metadata": {
    "metadata": {
     "tags": [
      "otter_ignore"
     ]
    }
   },
   "outputs": [
    {
     "data": {
      "application/javascript": [
       "(function(root) {\n",
       "  function now() {\n",
       "    return new Date();\n",
       "  }\n",
       "\n",
       "  var force = true;\n",
       "  var py_version = '3.2.2'.replace('rc', '-rc.').replace('.dev', '-dev.');\n",
       "  var is_dev = py_version.indexOf(\"+\") !== -1 || py_version.indexOf(\"-\") !== -1;\n",
       "  var reloading = false;\n",
       "  var Bokeh = root.Bokeh;\n",
       "  var bokeh_loaded = Bokeh != null && (Bokeh.version === py_version || (Bokeh.versions !== undefined && Bokeh.versions.has(py_version)));\n",
       "\n",
       "  if (typeof (root._bokeh_timeout) === \"undefined\" || force) {\n",
       "    root._bokeh_timeout = Date.now() + 5000;\n",
       "    root._bokeh_failed_load = false;\n",
       "  }\n",
       "\n",
       "  function run_callbacks() {\n",
       "    try {\n",
       "      root._bokeh_onload_callbacks.forEach(function(callback) {\n",
       "        if (callback != null)\n",
       "          callback();\n",
       "      });\n",
       "    } finally {\n",
       "      delete root._bokeh_onload_callbacks;\n",
       "    }\n",
       "    console.debug(\"Bokeh: all callbacks have finished\");\n",
       "  }\n",
       "\n",
       "  function load_libs(css_urls, js_urls, js_modules, js_exports, callback) {\n",
       "    if (css_urls == null) css_urls = [];\n",
       "    if (js_urls == null) js_urls = [];\n",
       "    if (js_modules == null) js_modules = [];\n",
       "    if (js_exports == null) js_exports = {};\n",
       "\n",
       "    root._bokeh_onload_callbacks.push(callback);\n",
       "\n",
       "    if (root._bokeh_is_loading > 0) {\n",
       "      console.debug(\"Bokeh: BokehJS is being loaded, scheduling callback at\", now());\n",
       "      return null;\n",
       "    }\n",
       "    if (js_urls.length === 0 && js_modules.length === 0 && Object.keys(js_exports).length === 0) {\n",
       "      run_callbacks();\n",
       "      return null;\n",
       "    }\n",
       "    if (!reloading) {\n",
       "      console.debug(\"Bokeh: BokehJS not loaded, scheduling load and callback at\", now());\n",
       "    }\n",
       "\n",
       "    function on_load() {\n",
       "      root._bokeh_is_loading--;\n",
       "      if (root._bokeh_is_loading === 0) {\n",
       "        console.debug(\"Bokeh: all BokehJS libraries/stylesheets loaded\");\n",
       "        run_callbacks()\n",
       "      }\n",
       "    }\n",
       "    window._bokeh_on_load = on_load\n",
       "\n",
       "    function on_error() {\n",
       "      console.error(\"failed to load \" + url);\n",
       "    }\n",
       "\n",
       "    var skip = [];\n",
       "    if (window.requirejs) {\n",
       "      window.requirejs.config({'packages': {}, 'paths': {'jspanel': 'https://cdn.jsdelivr.net/npm/jspanel4@4.12.0/dist/jspanel', 'jspanel-modal': 'https://cdn.jsdelivr.net/npm/jspanel4@4.12.0/dist/extensions/modal/jspanel.modal', 'jspanel-tooltip': 'https://cdn.jsdelivr.net/npm/jspanel4@4.12.0/dist/extensions/tooltip/jspanel.tooltip', 'jspanel-hint': 'https://cdn.jsdelivr.net/npm/jspanel4@4.12.0/dist/extensions/hint/jspanel.hint', 'jspanel-layout': 'https://cdn.jsdelivr.net/npm/jspanel4@4.12.0/dist/extensions/layout/jspanel.layout', 'jspanel-contextmenu': 'https://cdn.jsdelivr.net/npm/jspanel4@4.12.0/dist/extensions/contextmenu/jspanel.contextmenu', 'jspanel-dock': 'https://cdn.jsdelivr.net/npm/jspanel4@4.12.0/dist/extensions/dock/jspanel.dock', 'gridstack': 'https://cdn.jsdelivr.net/npm/gridstack@7.2.3/dist/gridstack-all', 'notyf': 'https://cdn.jsdelivr.net/npm/notyf@3/notyf.min'}, 'shim': {'jspanel': {'exports': 'jsPanel'}, 'gridstack': {'exports': 'GridStack'}}});\n",
       "      require([\"jspanel\"], function(jsPanel) {\n",
       "\twindow.jsPanel = jsPanel\n",
       "\ton_load()\n",
       "      })\n",
       "      require([\"jspanel-modal\"], function() {\n",
       "\ton_load()\n",
       "      })\n",
       "      require([\"jspanel-tooltip\"], function() {\n",
       "\ton_load()\n",
       "      })\n",
       "      require([\"jspanel-hint\"], function() {\n",
       "\ton_load()\n",
       "      })\n",
       "      require([\"jspanel-layout\"], function() {\n",
       "\ton_load()\n",
       "      })\n",
       "      require([\"jspanel-contextmenu\"], function() {\n",
       "\ton_load()\n",
       "      })\n",
       "      require([\"jspanel-dock\"], function() {\n",
       "\ton_load()\n",
       "      })\n",
       "      require([\"gridstack\"], function(GridStack) {\n",
       "\twindow.GridStack = GridStack\n",
       "\ton_load()\n",
       "      })\n",
       "      require([\"notyf\"], function() {\n",
       "\ton_load()\n",
       "      })\n",
       "      root._bokeh_is_loading = css_urls.length + 9;\n",
       "    } else {\n",
       "      root._bokeh_is_loading = css_urls.length + js_urls.length + js_modules.length + Object.keys(js_exports).length;\n",
       "    }\n",
       "\n",
       "    var existing_stylesheets = []\n",
       "    var links = document.getElementsByTagName('link')\n",
       "    for (var i = 0; i < links.length; i++) {\n",
       "      var link = links[i]\n",
       "      if (link.href != null) {\n",
       "\texisting_stylesheets.push(link.href)\n",
       "      }\n",
       "    }\n",
       "    for (var i = 0; i < css_urls.length; i++) {\n",
       "      var url = css_urls[i];\n",
       "      if (existing_stylesheets.indexOf(url) !== -1) {\n",
       "\ton_load()\n",
       "\tcontinue;\n",
       "      }\n",
       "      const element = document.createElement(\"link\");\n",
       "      element.onload = on_load;\n",
       "      element.onerror = on_error;\n",
       "      element.rel = \"stylesheet\";\n",
       "      element.type = \"text/css\";\n",
       "      element.href = url;\n",
       "      console.debug(\"Bokeh: injecting link tag for BokehJS stylesheet: \", url);\n",
       "      document.body.appendChild(element);\n",
       "    }    if (((window['jsPanel'] !== undefined) && (!(window['jsPanel'] instanceof HTMLElement))) || window.requirejs) {\n",
       "      var urls = ['https://cdn.holoviz.org/panel/1.2.2/dist/bundled/floatpanel/jspanel4@4.12.0/dist/jspanel.js', 'https://cdn.holoviz.org/panel/1.2.2/dist/bundled/floatpanel/jspanel4@4.12.0/dist/extensions/modal/jspanel.modal.js', 'https://cdn.holoviz.org/panel/1.2.2/dist/bundled/floatpanel/jspanel4@4.12.0/dist/extensions/tooltip/jspanel.tooltip.js', 'https://cdn.holoviz.org/panel/1.2.2/dist/bundled/floatpanel/jspanel4@4.12.0/dist/extensions/hint/jspanel.hint.js', 'https://cdn.holoviz.org/panel/1.2.2/dist/bundled/floatpanel/jspanel4@4.12.0/dist/extensions/layout/jspanel.layout.js', 'https://cdn.holoviz.org/panel/1.2.2/dist/bundled/floatpanel/jspanel4@4.12.0/dist/extensions/contextmenu/jspanel.contextmenu.js', 'https://cdn.holoviz.org/panel/1.2.2/dist/bundled/floatpanel/jspanel4@4.12.0/dist/extensions/dock/jspanel.dock.js'];\n",
       "      for (var i = 0; i < urls.length; i++) {\n",
       "        skip.push(urls[i])\n",
       "      }\n",
       "    }    if (((window['GridStack'] !== undefined) && (!(window['GridStack'] instanceof HTMLElement))) || window.requirejs) {\n",
       "      var urls = ['https://cdn.holoviz.org/panel/1.2.2/dist/bundled/gridstack/gridstack@7.2.3/dist/gridstack-all.js'];\n",
       "      for (var i = 0; i < urls.length; i++) {\n",
       "        skip.push(urls[i])\n",
       "      }\n",
       "    }    if (((window['Notyf'] !== undefined) && (!(window['Notyf'] instanceof HTMLElement))) || window.requirejs) {\n",
       "      var urls = ['https://cdn.holoviz.org/panel/1.2.2/dist/bundled/notificationarea/notyf@3/notyf.min.js'];\n",
       "      for (var i = 0; i < urls.length; i++) {\n",
       "        skip.push(urls[i])\n",
       "      }\n",
       "    }    var existing_scripts = []\n",
       "    var scripts = document.getElementsByTagName('script')\n",
       "    for (var i = 0; i < scripts.length; i++) {\n",
       "      var script = scripts[i]\n",
       "      if (script.src != null) {\n",
       "\texisting_scripts.push(script.src)\n",
       "      }\n",
       "    }\n",
       "    for (var i = 0; i < js_urls.length; i++) {\n",
       "      var url = js_urls[i];\n",
       "      if (skip.indexOf(url) !== -1 || existing_scripts.indexOf(url) !== -1) {\n",
       "\tif (!window.requirejs) {\n",
       "\t  on_load();\n",
       "\t}\n",
       "\tcontinue;\n",
       "      }\n",
       "      var element = document.createElement('script');\n",
       "      element.onload = on_load;\n",
       "      element.onerror = on_error;\n",
       "      element.async = false;\n",
       "      element.src = url;\n",
       "      console.debug(\"Bokeh: injecting script tag for BokehJS library: \", url);\n",
       "      document.head.appendChild(element);\n",
       "    }\n",
       "    for (var i = 0; i < js_modules.length; i++) {\n",
       "      var url = js_modules[i];\n",
       "      if (skip.indexOf(url) !== -1 || existing_scripts.indexOf(url) !== -1) {\n",
       "\tif (!window.requirejs) {\n",
       "\t  on_load();\n",
       "\t}\n",
       "\tcontinue;\n",
       "      }\n",
       "      var element = document.createElement('script');\n",
       "      element.onload = on_load;\n",
       "      element.onerror = on_error;\n",
       "      element.async = false;\n",
       "      element.src = url;\n",
       "      element.type = \"module\";\n",
       "      console.debug(\"Bokeh: injecting script tag for BokehJS library: \", url);\n",
       "      document.head.appendChild(element);\n",
       "    }\n",
       "    for (const name in js_exports) {\n",
       "      var url = js_exports[name];\n",
       "      if (skip.indexOf(url) >= 0 || root[name] != null) {\n",
       "\tif (!window.requirejs) {\n",
       "\t  on_load();\n",
       "\t}\n",
       "\tcontinue;\n",
       "      }\n",
       "      var element = document.createElement('script');\n",
       "      element.onerror = on_error;\n",
       "      element.async = false;\n",
       "      element.type = \"module\";\n",
       "      console.debug(\"Bokeh: injecting script tag for BokehJS library: \", url);\n",
       "      element.textContent = `\n",
       "      import ${name} from \"${url}\"\n",
       "      window.${name} = ${name}\n",
       "      window._bokeh_on_load()\n",
       "      `\n",
       "      document.head.appendChild(element);\n",
       "    }\n",
       "    if (!js_urls.length && !js_modules.length) {\n",
       "      on_load()\n",
       "    }\n",
       "  };\n",
       "\n",
       "  function inject_raw_css(css) {\n",
       "    const element = document.createElement(\"style\");\n",
       "    element.appendChild(document.createTextNode(css));\n",
       "    document.body.appendChild(element);\n",
       "  }\n",
       "\n",
       "  var js_urls = [\"https://cdn.bokeh.org/bokeh/release/bokeh-3.2.2.min.js\", \"https://cdn.bokeh.org/bokeh/release/bokeh-gl-3.2.2.min.js\", \"https://cdn.bokeh.org/bokeh/release/bokeh-widgets-3.2.2.min.js\", \"https://cdn.bokeh.org/bokeh/release/bokeh-tables-3.2.2.min.js\", \"https://cdn.holoviz.org/panel/1.2.2/dist/panel.min.js\"];\n",
       "  var js_modules = [];\n",
       "  var js_exports = {};\n",
       "  var css_urls = [];\n",
       "  var inline_js = [    function(Bokeh) {\n",
       "      Bokeh.set_log_level(\"info\");\n",
       "    },\n",
       "function(Bokeh) {} // ensure no trailing comma for IE\n",
       "  ];\n",
       "\n",
       "  function run_inline_js() {\n",
       "    if ((root.Bokeh !== undefined) || (force === true)) {\n",
       "      for (var i = 0; i < inline_js.length; i++) {\n",
       "        inline_js[i].call(root, root.Bokeh);\n",
       "      }\n",
       "      // Cache old bokeh versions\n",
       "      if (Bokeh != undefined && !reloading) {\n",
       "\tvar NewBokeh = root.Bokeh;\n",
       "\tif (Bokeh.versions === undefined) {\n",
       "\t  Bokeh.versions = new Map();\n",
       "\t}\n",
       "\tif (NewBokeh.version !== Bokeh.version) {\n",
       "\t  Bokeh.versions.set(NewBokeh.version, NewBokeh)\n",
       "\t}\n",
       "\troot.Bokeh = Bokeh;\n",
       "      }} else if (Date.now() < root._bokeh_timeout) {\n",
       "      setTimeout(run_inline_js, 100);\n",
       "    } else if (!root._bokeh_failed_load) {\n",
       "      console.log(\"Bokeh: BokehJS failed to load within specified timeout.\");\n",
       "      root._bokeh_failed_load = true;\n",
       "    }\n",
       "    root._bokeh_is_initializing = false\n",
       "  }\n",
       "\n",
       "  function load_or_wait() {\n",
       "    // Implement a backoff loop that tries to ensure we do not load multiple\n",
       "    // versions of Bokeh and its dependencies at the same time.\n",
       "    // In recent versions we use the root._bokeh_is_initializing flag\n",
       "    // to determine whether there is an ongoing attempt to initialize\n",
       "    // bokeh, however for backward compatibility we also try to ensure\n",
       "    // that we do not start loading a newer (Panel>=1.0 and Bokeh>3) version\n",
       "    // before older versions are fully initialized.\n",
       "    if (root._bokeh_is_initializing && Date.now() > root._bokeh_timeout) {\n",
       "      root._bokeh_is_initializing = false;\n",
       "      root._bokeh_onload_callbacks = undefined;\n",
       "      console.log(\"Bokeh: BokehJS was loaded multiple times but one version failed to initialize.\");\n",
       "      load_or_wait();\n",
       "    } else if (root._bokeh_is_initializing || (typeof root._bokeh_is_initializing === \"undefined\" && root._bokeh_onload_callbacks !== undefined)) {\n",
       "      setTimeout(load_or_wait, 100);\n",
       "    } else {\n",
       "      Bokeh = root.Bokeh;\n",
       "      bokeh_loaded = Bokeh != null && (Bokeh.version === py_version || (Bokeh.versions !== undefined && Bokeh.versions.has(py_version)));\n",
       "      root._bokeh_is_initializing = true\n",
       "      root._bokeh_onload_callbacks = []\n",
       "      if (!reloading && (!bokeh_loaded || is_dev)) {\n",
       "\troot.Bokeh = undefined;\n",
       "      }\n",
       "      load_libs(css_urls, js_urls, js_modules, js_exports, function() {\n",
       "\tconsole.debug(\"Bokeh: BokehJS plotting callback run at\", now());\n",
       "\trun_inline_js();\n",
       "      });\n",
       "    }\n",
       "  }\n",
       "  // Give older versions of the autoload script a head-start to ensure\n",
       "  // they initialize before we start loading newer version.\n",
       "  setTimeout(load_or_wait, 100)\n",
       "}(window));"
      ],
      "application/vnd.holoviews_load.v0+json": "(function(root) {\n  function now() {\n    return new Date();\n  }\n\n  var force = true;\n  var py_version = '3.2.2'.replace('rc', '-rc.').replace('.dev', '-dev.');\n  var is_dev = py_version.indexOf(\"+\") !== -1 || py_version.indexOf(\"-\") !== -1;\n  var reloading = false;\n  var Bokeh = root.Bokeh;\n  var bokeh_loaded = Bokeh != null && (Bokeh.version === py_version || (Bokeh.versions !== undefined && Bokeh.versions.has(py_version)));\n\n  if (typeof (root._bokeh_timeout) === \"undefined\" || force) {\n    root._bokeh_timeout = Date.now() + 5000;\n    root._bokeh_failed_load = false;\n  }\n\n  function run_callbacks() {\n    try {\n      root._bokeh_onload_callbacks.forEach(function(callback) {\n        if (callback != null)\n          callback();\n      });\n    } finally {\n      delete root._bokeh_onload_callbacks;\n    }\n    console.debug(\"Bokeh: all callbacks have finished\");\n  }\n\n  function load_libs(css_urls, js_urls, js_modules, js_exports, callback) {\n    if (css_urls == null) css_urls = [];\n    if (js_urls == null) js_urls = [];\n    if (js_modules == null) js_modules = [];\n    if (js_exports == null) js_exports = {};\n\n    root._bokeh_onload_callbacks.push(callback);\n\n    if (root._bokeh_is_loading > 0) {\n      console.debug(\"Bokeh: BokehJS is being loaded, scheduling callback at\", now());\n      return null;\n    }\n    if (js_urls.length === 0 && js_modules.length === 0 && Object.keys(js_exports).length === 0) {\n      run_callbacks();\n      return null;\n    }\n    if (!reloading) {\n      console.debug(\"Bokeh: BokehJS not loaded, scheduling load and callback at\", now());\n    }\n\n    function on_load() {\n      root._bokeh_is_loading--;\n      if (root._bokeh_is_loading === 0) {\n        console.debug(\"Bokeh: all BokehJS libraries/stylesheets loaded\");\n        run_callbacks()\n      }\n    }\n    window._bokeh_on_load = on_load\n\n    function on_error() {\n      console.error(\"failed to load \" + url);\n    }\n\n    var skip = [];\n    if (window.requirejs) {\n      window.requirejs.config({'packages': {}, 'paths': {'jspanel': 'https://cdn.jsdelivr.net/npm/jspanel4@4.12.0/dist/jspanel', 'jspanel-modal': 'https://cdn.jsdelivr.net/npm/jspanel4@4.12.0/dist/extensions/modal/jspanel.modal', 'jspanel-tooltip': 'https://cdn.jsdelivr.net/npm/jspanel4@4.12.0/dist/extensions/tooltip/jspanel.tooltip', 'jspanel-hint': 'https://cdn.jsdelivr.net/npm/jspanel4@4.12.0/dist/extensions/hint/jspanel.hint', 'jspanel-layout': 'https://cdn.jsdelivr.net/npm/jspanel4@4.12.0/dist/extensions/layout/jspanel.layout', 'jspanel-contextmenu': 'https://cdn.jsdelivr.net/npm/jspanel4@4.12.0/dist/extensions/contextmenu/jspanel.contextmenu', 'jspanel-dock': 'https://cdn.jsdelivr.net/npm/jspanel4@4.12.0/dist/extensions/dock/jspanel.dock', 'gridstack': 'https://cdn.jsdelivr.net/npm/gridstack@7.2.3/dist/gridstack-all', 'notyf': 'https://cdn.jsdelivr.net/npm/notyf@3/notyf.min'}, 'shim': {'jspanel': {'exports': 'jsPanel'}, 'gridstack': {'exports': 'GridStack'}}});\n      require([\"jspanel\"], function(jsPanel) {\n\twindow.jsPanel = jsPanel\n\ton_load()\n      })\n      require([\"jspanel-modal\"], function() {\n\ton_load()\n      })\n      require([\"jspanel-tooltip\"], function() {\n\ton_load()\n      })\n      require([\"jspanel-hint\"], function() {\n\ton_load()\n      })\n      require([\"jspanel-layout\"], function() {\n\ton_load()\n      })\n      require([\"jspanel-contextmenu\"], function() {\n\ton_load()\n      })\n      require([\"jspanel-dock\"], function() {\n\ton_load()\n      })\n      require([\"gridstack\"], function(GridStack) {\n\twindow.GridStack = GridStack\n\ton_load()\n      })\n      require([\"notyf\"], function() {\n\ton_load()\n      })\n      root._bokeh_is_loading = css_urls.length + 9;\n    } else {\n      root._bokeh_is_loading = css_urls.length + js_urls.length + js_modules.length + Object.keys(js_exports).length;\n    }\n\n    var existing_stylesheets = []\n    var links = document.getElementsByTagName('link')\n    for (var i = 0; i < links.length; i++) {\n      var link = links[i]\n      if (link.href != null) {\n\texisting_stylesheets.push(link.href)\n      }\n    }\n    for (var i = 0; i < css_urls.length; i++) {\n      var url = css_urls[i];\n      if (existing_stylesheets.indexOf(url) !== -1) {\n\ton_load()\n\tcontinue;\n      }\n      const element = document.createElement(\"link\");\n      element.onload = on_load;\n      element.onerror = on_error;\n      element.rel = \"stylesheet\";\n      element.type = \"text/css\";\n      element.href = url;\n      console.debug(\"Bokeh: injecting link tag for BokehJS stylesheet: \", url);\n      document.body.appendChild(element);\n    }    if (((window['jsPanel'] !== undefined) && (!(window['jsPanel'] instanceof HTMLElement))) || window.requirejs) {\n      var urls = ['https://cdn.holoviz.org/panel/1.2.2/dist/bundled/floatpanel/jspanel4@4.12.0/dist/jspanel.js', 'https://cdn.holoviz.org/panel/1.2.2/dist/bundled/floatpanel/jspanel4@4.12.0/dist/extensions/modal/jspanel.modal.js', 'https://cdn.holoviz.org/panel/1.2.2/dist/bundled/floatpanel/jspanel4@4.12.0/dist/extensions/tooltip/jspanel.tooltip.js', 'https://cdn.holoviz.org/panel/1.2.2/dist/bundled/floatpanel/jspanel4@4.12.0/dist/extensions/hint/jspanel.hint.js', 'https://cdn.holoviz.org/panel/1.2.2/dist/bundled/floatpanel/jspanel4@4.12.0/dist/extensions/layout/jspanel.layout.js', 'https://cdn.holoviz.org/panel/1.2.2/dist/bundled/floatpanel/jspanel4@4.12.0/dist/extensions/contextmenu/jspanel.contextmenu.js', 'https://cdn.holoviz.org/panel/1.2.2/dist/bundled/floatpanel/jspanel4@4.12.0/dist/extensions/dock/jspanel.dock.js'];\n      for (var i = 0; i < urls.length; i++) {\n        skip.push(urls[i])\n      }\n    }    if (((window['GridStack'] !== undefined) && (!(window['GridStack'] instanceof HTMLElement))) || window.requirejs) {\n      var urls = ['https://cdn.holoviz.org/panel/1.2.2/dist/bundled/gridstack/gridstack@7.2.3/dist/gridstack-all.js'];\n      for (var i = 0; i < urls.length; i++) {\n        skip.push(urls[i])\n      }\n    }    if (((window['Notyf'] !== undefined) && (!(window['Notyf'] instanceof HTMLElement))) || window.requirejs) {\n      var urls = ['https://cdn.holoviz.org/panel/1.2.2/dist/bundled/notificationarea/notyf@3/notyf.min.js'];\n      for (var i = 0; i < urls.length; i++) {\n        skip.push(urls[i])\n      }\n    }    var existing_scripts = []\n    var scripts = document.getElementsByTagName('script')\n    for (var i = 0; i < scripts.length; i++) {\n      var script = scripts[i]\n      if (script.src != null) {\n\texisting_scripts.push(script.src)\n      }\n    }\n    for (var i = 0; i < js_urls.length; i++) {\n      var url = js_urls[i];\n      if (skip.indexOf(url) !== -1 || existing_scripts.indexOf(url) !== -1) {\n\tif (!window.requirejs) {\n\t  on_load();\n\t}\n\tcontinue;\n      }\n      var element = document.createElement('script');\n      element.onload = on_load;\n      element.onerror = on_error;\n      element.async = false;\n      element.src = url;\n      console.debug(\"Bokeh: injecting script tag for BokehJS library: \", url);\n      document.head.appendChild(element);\n    }\n    for (var i = 0; i < js_modules.length; i++) {\n      var url = js_modules[i];\n      if (skip.indexOf(url) !== -1 || existing_scripts.indexOf(url) !== -1) {\n\tif (!window.requirejs) {\n\t  on_load();\n\t}\n\tcontinue;\n      }\n      var element = document.createElement('script');\n      element.onload = on_load;\n      element.onerror = on_error;\n      element.async = false;\n      element.src = url;\n      element.type = \"module\";\n      console.debug(\"Bokeh: injecting script tag for BokehJS library: \", url);\n      document.head.appendChild(element);\n    }\n    for (const name in js_exports) {\n      var url = js_exports[name];\n      if (skip.indexOf(url) >= 0 || root[name] != null) {\n\tif (!window.requirejs) {\n\t  on_load();\n\t}\n\tcontinue;\n      }\n      var element = document.createElement('script');\n      element.onerror = on_error;\n      element.async = false;\n      element.type = \"module\";\n      console.debug(\"Bokeh: injecting script tag for BokehJS library: \", url);\n      element.textContent = `\n      import ${name} from \"${url}\"\n      window.${name} = ${name}\n      window._bokeh_on_load()\n      `\n      document.head.appendChild(element);\n    }\n    if (!js_urls.length && !js_modules.length) {\n      on_load()\n    }\n  };\n\n  function inject_raw_css(css) {\n    const element = document.createElement(\"style\");\n    element.appendChild(document.createTextNode(css));\n    document.body.appendChild(element);\n  }\n\n  var js_urls = [\"https://cdn.bokeh.org/bokeh/release/bokeh-3.2.2.min.js\", \"https://cdn.bokeh.org/bokeh/release/bokeh-gl-3.2.2.min.js\", \"https://cdn.bokeh.org/bokeh/release/bokeh-widgets-3.2.2.min.js\", \"https://cdn.bokeh.org/bokeh/release/bokeh-tables-3.2.2.min.js\", \"https://cdn.holoviz.org/panel/1.2.2/dist/panel.min.js\"];\n  var js_modules = [];\n  var js_exports = {};\n  var css_urls = [];\n  var inline_js = [    function(Bokeh) {\n      Bokeh.set_log_level(\"info\");\n    },\nfunction(Bokeh) {} // ensure no trailing comma for IE\n  ];\n\n  function run_inline_js() {\n    if ((root.Bokeh !== undefined) || (force === true)) {\n      for (var i = 0; i < inline_js.length; i++) {\n        inline_js[i].call(root, root.Bokeh);\n      }\n      // Cache old bokeh versions\n      if (Bokeh != undefined && !reloading) {\n\tvar NewBokeh = root.Bokeh;\n\tif (Bokeh.versions === undefined) {\n\t  Bokeh.versions = new Map();\n\t}\n\tif (NewBokeh.version !== Bokeh.version) {\n\t  Bokeh.versions.set(NewBokeh.version, NewBokeh)\n\t}\n\troot.Bokeh = Bokeh;\n      }} else if (Date.now() < root._bokeh_timeout) {\n      setTimeout(run_inline_js, 100);\n    } else if (!root._bokeh_failed_load) {\n      console.log(\"Bokeh: BokehJS failed to load within specified timeout.\");\n      root._bokeh_failed_load = true;\n    }\n    root._bokeh_is_initializing = false\n  }\n\n  function load_or_wait() {\n    // Implement a backoff loop that tries to ensure we do not load multiple\n    // versions of Bokeh and its dependencies at the same time.\n    // In recent versions we use the root._bokeh_is_initializing flag\n    // to determine whether there is an ongoing attempt to initialize\n    // bokeh, however for backward compatibility we also try to ensure\n    // that we do not start loading a newer (Panel>=1.0 and Bokeh>3) version\n    // before older versions are fully initialized.\n    if (root._bokeh_is_initializing && Date.now() > root._bokeh_timeout) {\n      root._bokeh_is_initializing = false;\n      root._bokeh_onload_callbacks = undefined;\n      console.log(\"Bokeh: BokehJS was loaded multiple times but one version failed to initialize.\");\n      load_or_wait();\n    } else if (root._bokeh_is_initializing || (typeof root._bokeh_is_initializing === \"undefined\" && root._bokeh_onload_callbacks !== undefined)) {\n      setTimeout(load_or_wait, 100);\n    } else {\n      Bokeh = root.Bokeh;\n      bokeh_loaded = Bokeh != null && (Bokeh.version === py_version || (Bokeh.versions !== undefined && Bokeh.versions.has(py_version)));\n      root._bokeh_is_initializing = true\n      root._bokeh_onload_callbacks = []\n      if (!reloading && (!bokeh_loaded || is_dev)) {\n\troot.Bokeh = undefined;\n      }\n      load_libs(css_urls, js_urls, js_modules, js_exports, function() {\n\tconsole.debug(\"Bokeh: BokehJS plotting callback run at\", now());\n\trun_inline_js();\n      });\n    }\n  }\n  // Give older versions of the autoload script a head-start to ensure\n  // they initialize before we start loading newer version.\n  setTimeout(load_or_wait, 100)\n}(window));"
     },
     "metadata": {},
     "output_type": "display_data"
    },
    {
     "data": {
      "application/javascript": [
       "\n",
       "if ((window.PyViz === undefined) || (window.PyViz instanceof HTMLElement)) {\n",
       "  window.PyViz = {comms: {}, comm_status:{}, kernels:{}, receivers: {}, plot_index: []}\n",
       "}\n",
       "\n",
       "\n",
       "    function JupyterCommManager() {\n",
       "    }\n",
       "\n",
       "    JupyterCommManager.prototype.register_target = function(plot_id, comm_id, msg_handler) {\n",
       "      if (window.comm_manager || ((window.Jupyter !== undefined) && (Jupyter.notebook.kernel != null))) {\n",
       "        var comm_manager = window.comm_manager || Jupyter.notebook.kernel.comm_manager;\n",
       "        comm_manager.register_target(comm_id, function(comm) {\n",
       "          comm.on_msg(msg_handler);\n",
       "        });\n",
       "      } else if ((plot_id in window.PyViz.kernels) && (window.PyViz.kernels[plot_id])) {\n",
       "        window.PyViz.kernels[plot_id].registerCommTarget(comm_id, function(comm) {\n",
       "          comm.onMsg = msg_handler;\n",
       "        });\n",
       "      } else if (typeof google != 'undefined' && google.colab.kernel != null) {\n",
       "        google.colab.kernel.comms.registerTarget(comm_id, (comm) => {\n",
       "          var messages = comm.messages[Symbol.asyncIterator]();\n",
       "          function processIteratorResult(result) {\n",
       "            var message = result.value;\n",
       "            console.log(message)\n",
       "            var content = {data: message.data, comm_id};\n",
       "            var buffers = []\n",
       "            for (var buffer of message.buffers || []) {\n",
       "              buffers.push(new DataView(buffer))\n",
       "            }\n",
       "            var metadata = message.metadata || {};\n",
       "            var msg = {content, buffers, metadata}\n",
       "            msg_handler(msg);\n",
       "            return messages.next().then(processIteratorResult);\n",
       "          }\n",
       "          return messages.next().then(processIteratorResult);\n",
       "        })\n",
       "      }\n",
       "    }\n",
       "\n",
       "    JupyterCommManager.prototype.get_client_comm = function(plot_id, comm_id, msg_handler) {\n",
       "      if (comm_id in window.PyViz.comms) {\n",
       "        return window.PyViz.comms[comm_id];\n",
       "      } else if (window.comm_manager || ((window.Jupyter !== undefined) && (Jupyter.notebook.kernel != null))) {\n",
       "        var comm_manager = window.comm_manager || Jupyter.notebook.kernel.comm_manager;\n",
       "        var comm = comm_manager.new_comm(comm_id, {}, {}, {}, comm_id);\n",
       "        if (msg_handler) {\n",
       "          comm.on_msg(msg_handler);\n",
       "        }\n",
       "      } else if ((plot_id in window.PyViz.kernels) && (window.PyViz.kernels[plot_id])) {\n",
       "        var comm = window.PyViz.kernels[plot_id].connectToComm(comm_id);\n",
       "        comm.open();\n",
       "        if (msg_handler) {\n",
       "          comm.onMsg = msg_handler;\n",
       "        }\n",
       "      } else if (typeof google != 'undefined' && google.colab.kernel != null) {\n",
       "        var comm_promise = google.colab.kernel.comms.open(comm_id)\n",
       "        comm_promise.then((comm) => {\n",
       "          window.PyViz.comms[comm_id] = comm;\n",
       "          if (msg_handler) {\n",
       "            var messages = comm.messages[Symbol.asyncIterator]();\n",
       "            function processIteratorResult(result) {\n",
       "              var message = result.value;\n",
       "              var content = {data: message.data};\n",
       "              var metadata = message.metadata || {comm_id};\n",
       "              var msg = {content, metadata}\n",
       "              msg_handler(msg);\n",
       "              return messages.next().then(processIteratorResult);\n",
       "            }\n",
       "            return messages.next().then(processIteratorResult);\n",
       "          }\n",
       "        }) \n",
       "        var sendClosure = (data, metadata, buffers, disposeOnDone) => {\n",
       "          return comm_promise.then((comm) => {\n",
       "            comm.send(data, metadata, buffers, disposeOnDone);\n",
       "          });\n",
       "        };\n",
       "        var comm = {\n",
       "          send: sendClosure\n",
       "        };\n",
       "      }\n",
       "      window.PyViz.comms[comm_id] = comm;\n",
       "      return comm;\n",
       "    }\n",
       "    window.PyViz.comm_manager = new JupyterCommManager();\n",
       "    \n",
       "\n",
       "\n",
       "var JS_MIME_TYPE = 'application/javascript';\n",
       "var HTML_MIME_TYPE = 'text/html';\n",
       "var EXEC_MIME_TYPE = 'application/vnd.holoviews_exec.v0+json';\n",
       "var CLASS_NAME = 'output';\n",
       "\n",
       "/**\n",
       " * Render data to the DOM node\n",
       " */\n",
       "function render(props, node) {\n",
       "  var div = document.createElement(\"div\");\n",
       "  var script = document.createElement(\"script\");\n",
       "  node.appendChild(div);\n",
       "  node.appendChild(script);\n",
       "}\n",
       "\n",
       "/**\n",
       " * Handle when a new output is added\n",
       " */\n",
       "function handle_add_output(event, handle) {\n",
       "  var output_area = handle.output_area;\n",
       "  var output = handle.output;\n",
       "  if ((output.data == undefined) || (!output.data.hasOwnProperty(EXEC_MIME_TYPE))) {\n",
       "    return\n",
       "  }\n",
       "  var id = output.metadata[EXEC_MIME_TYPE][\"id\"];\n",
       "  var toinsert = output_area.element.find(\".\" + CLASS_NAME.split(' ')[0]);\n",
       "  if (id !== undefined) {\n",
       "    var nchildren = toinsert.length;\n",
       "    var html_node = toinsert[nchildren-1].children[0];\n",
       "    html_node.innerHTML = output.data[HTML_MIME_TYPE];\n",
       "    var scripts = [];\n",
       "    var nodelist = html_node.querySelectorAll(\"script\");\n",
       "    for (var i in nodelist) {\n",
       "      if (nodelist.hasOwnProperty(i)) {\n",
       "        scripts.push(nodelist[i])\n",
       "      }\n",
       "    }\n",
       "\n",
       "    scripts.forEach( function (oldScript) {\n",
       "      var newScript = document.createElement(\"script\");\n",
       "      var attrs = [];\n",
       "      var nodemap = oldScript.attributes;\n",
       "      for (var j in nodemap) {\n",
       "        if (nodemap.hasOwnProperty(j)) {\n",
       "          attrs.push(nodemap[j])\n",
       "        }\n",
       "      }\n",
       "      attrs.forEach(function(attr) { newScript.setAttribute(attr.name, attr.value) });\n",
       "      newScript.appendChild(document.createTextNode(oldScript.innerHTML));\n",
       "      oldScript.parentNode.replaceChild(newScript, oldScript);\n",
       "    });\n",
       "    if (JS_MIME_TYPE in output.data) {\n",
       "      toinsert[nchildren-1].children[1].textContent = output.data[JS_MIME_TYPE];\n",
       "    }\n",
       "    output_area._hv_plot_id = id;\n",
       "    if ((window.Bokeh !== undefined) && (id in Bokeh.index)) {\n",
       "      window.PyViz.plot_index[id] = Bokeh.index[id];\n",
       "    } else {\n",
       "      window.PyViz.plot_index[id] = null;\n",
       "    }\n",
       "  } else if (output.metadata[EXEC_MIME_TYPE][\"server_id\"] !== undefined) {\n",
       "    var bk_div = document.createElement(\"div\");\n",
       "    bk_div.innerHTML = output.data[HTML_MIME_TYPE];\n",
       "    var script_attrs = bk_div.children[0].attributes;\n",
       "    for (var i = 0; i < script_attrs.length; i++) {\n",
       "      toinsert[toinsert.length - 1].childNodes[1].setAttribute(script_attrs[i].name, script_attrs[i].value);\n",
       "    }\n",
       "    // store reference to server id on output_area\n",
       "    output_area._bokeh_server_id = output.metadata[EXEC_MIME_TYPE][\"server_id\"];\n",
       "  }\n",
       "}\n",
       "\n",
       "/**\n",
       " * Handle when an output is cleared or removed\n",
       " */\n",
       "function handle_clear_output(event, handle) {\n",
       "  var id = handle.cell.output_area._hv_plot_id;\n",
       "  var server_id = handle.cell.output_area._bokeh_server_id;\n",
       "  if (((id === undefined) || !(id in PyViz.plot_index)) && (server_id !== undefined)) { return; }\n",
       "  var comm = window.PyViz.comm_manager.get_client_comm(\"hv-extension-comm\", \"hv-extension-comm\", function () {});\n",
       "  if (server_id !== null) {\n",
       "    comm.send({event_type: 'server_delete', 'id': server_id});\n",
       "    return;\n",
       "  } else if (comm !== null) {\n",
       "    comm.send({event_type: 'delete', 'id': id});\n",
       "  }\n",
       "  delete PyViz.plot_index[id];\n",
       "  if ((window.Bokeh !== undefined) & (id in window.Bokeh.index)) {\n",
       "    var doc = window.Bokeh.index[id].model.document\n",
       "    doc.clear();\n",
       "    const i = window.Bokeh.documents.indexOf(doc);\n",
       "    if (i > -1) {\n",
       "      window.Bokeh.documents.splice(i, 1);\n",
       "    }\n",
       "  }\n",
       "}\n",
       "\n",
       "/**\n",
       " * Handle kernel restart event\n",
       " */\n",
       "function handle_kernel_cleanup(event, handle) {\n",
       "  delete PyViz.comms[\"hv-extension-comm\"];\n",
       "  window.PyViz.plot_index = {}\n",
       "}\n",
       "\n",
       "/**\n",
       " * Handle update_display_data messages\n",
       " */\n",
       "function handle_update_output(event, handle) {\n",
       "  handle_clear_output(event, {cell: {output_area: handle.output_area}})\n",
       "  handle_add_output(event, handle)\n",
       "}\n",
       "\n",
       "function register_renderer(events, OutputArea) {\n",
       "  function append_mime(data, metadata, element) {\n",
       "    // create a DOM node to render to\n",
       "    var toinsert = this.create_output_subarea(\n",
       "    metadata,\n",
       "    CLASS_NAME,\n",
       "    EXEC_MIME_TYPE\n",
       "    );\n",
       "    this.keyboard_manager.register_events(toinsert);\n",
       "    // Render to node\n",
       "    var props = {data: data, metadata: metadata[EXEC_MIME_TYPE]};\n",
       "    render(props, toinsert[0]);\n",
       "    element.append(toinsert);\n",
       "    return toinsert\n",
       "  }\n",
       "\n",
       "  events.on('output_added.OutputArea', handle_add_output);\n",
       "  events.on('output_updated.OutputArea', handle_update_output);\n",
       "  events.on('clear_output.CodeCell', handle_clear_output);\n",
       "  events.on('delete.Cell', handle_clear_output);\n",
       "  events.on('kernel_ready.Kernel', handle_kernel_cleanup);\n",
       "\n",
       "  OutputArea.prototype.register_mime_type(EXEC_MIME_TYPE, append_mime, {\n",
       "    safe: true,\n",
       "    index: 0\n",
       "  });\n",
       "}\n",
       "\n",
       "if (window.Jupyter !== undefined) {\n",
       "  try {\n",
       "    var events = require('base/js/events');\n",
       "    var OutputArea = require('notebook/js/outputarea').OutputArea;\n",
       "    if (OutputArea.prototype.mime_types().indexOf(EXEC_MIME_TYPE) == -1) {\n",
       "      register_renderer(events, OutputArea);\n",
       "    }\n",
       "  } catch(err) {\n",
       "  }\n",
       "}\n"
      ],
      "application/vnd.holoviews_load.v0+json": "\nif ((window.PyViz === undefined) || (window.PyViz instanceof HTMLElement)) {\n  window.PyViz = {comms: {}, comm_status:{}, kernels:{}, receivers: {}, plot_index: []}\n}\n\n\n    function JupyterCommManager() {\n    }\n\n    JupyterCommManager.prototype.register_target = function(plot_id, comm_id, msg_handler) {\n      if (window.comm_manager || ((window.Jupyter !== undefined) && (Jupyter.notebook.kernel != null))) {\n        var comm_manager = window.comm_manager || Jupyter.notebook.kernel.comm_manager;\n        comm_manager.register_target(comm_id, function(comm) {\n          comm.on_msg(msg_handler);\n        });\n      } else if ((plot_id in window.PyViz.kernels) && (window.PyViz.kernels[plot_id])) {\n        window.PyViz.kernels[plot_id].registerCommTarget(comm_id, function(comm) {\n          comm.onMsg = msg_handler;\n        });\n      } else if (typeof google != 'undefined' && google.colab.kernel != null) {\n        google.colab.kernel.comms.registerTarget(comm_id, (comm) => {\n          var messages = comm.messages[Symbol.asyncIterator]();\n          function processIteratorResult(result) {\n            var message = result.value;\n            console.log(message)\n            var content = {data: message.data, comm_id};\n            var buffers = []\n            for (var buffer of message.buffers || []) {\n              buffers.push(new DataView(buffer))\n            }\n            var metadata = message.metadata || {};\n            var msg = {content, buffers, metadata}\n            msg_handler(msg);\n            return messages.next().then(processIteratorResult);\n          }\n          return messages.next().then(processIteratorResult);\n        })\n      }\n    }\n\n    JupyterCommManager.prototype.get_client_comm = function(plot_id, comm_id, msg_handler) {\n      if (comm_id in window.PyViz.comms) {\n        return window.PyViz.comms[comm_id];\n      } else if (window.comm_manager || ((window.Jupyter !== undefined) && (Jupyter.notebook.kernel != null))) {\n        var comm_manager = window.comm_manager || Jupyter.notebook.kernel.comm_manager;\n        var comm = comm_manager.new_comm(comm_id, {}, {}, {}, comm_id);\n        if (msg_handler) {\n          comm.on_msg(msg_handler);\n        }\n      } else if ((plot_id in window.PyViz.kernels) && (window.PyViz.kernels[plot_id])) {\n        var comm = window.PyViz.kernels[plot_id].connectToComm(comm_id);\n        comm.open();\n        if (msg_handler) {\n          comm.onMsg = msg_handler;\n        }\n      } else if (typeof google != 'undefined' && google.colab.kernel != null) {\n        var comm_promise = google.colab.kernel.comms.open(comm_id)\n        comm_promise.then((comm) => {\n          window.PyViz.comms[comm_id] = comm;\n          if (msg_handler) {\n            var messages = comm.messages[Symbol.asyncIterator]();\n            function processIteratorResult(result) {\n              var message = result.value;\n              var content = {data: message.data};\n              var metadata = message.metadata || {comm_id};\n              var msg = {content, metadata}\n              msg_handler(msg);\n              return messages.next().then(processIteratorResult);\n            }\n            return messages.next().then(processIteratorResult);\n          }\n        }) \n        var sendClosure = (data, metadata, buffers, disposeOnDone) => {\n          return comm_promise.then((comm) => {\n            comm.send(data, metadata, buffers, disposeOnDone);\n          });\n        };\n        var comm = {\n          send: sendClosure\n        };\n      }\n      window.PyViz.comms[comm_id] = comm;\n      return comm;\n    }\n    window.PyViz.comm_manager = new JupyterCommManager();\n    \n\n\nvar JS_MIME_TYPE = 'application/javascript';\nvar HTML_MIME_TYPE = 'text/html';\nvar EXEC_MIME_TYPE = 'application/vnd.holoviews_exec.v0+json';\nvar CLASS_NAME = 'output';\n\n/**\n * Render data to the DOM node\n */\nfunction render(props, node) {\n  var div = document.createElement(\"div\");\n  var script = document.createElement(\"script\");\n  node.appendChild(div);\n  node.appendChild(script);\n}\n\n/**\n * Handle when a new output is added\n */\nfunction handle_add_output(event, handle) {\n  var output_area = handle.output_area;\n  var output = handle.output;\n  if ((output.data == undefined) || (!output.data.hasOwnProperty(EXEC_MIME_TYPE))) {\n    return\n  }\n  var id = output.metadata[EXEC_MIME_TYPE][\"id\"];\n  var toinsert = output_area.element.find(\".\" + CLASS_NAME.split(' ')[0]);\n  if (id !== undefined) {\n    var nchildren = toinsert.length;\n    var html_node = toinsert[nchildren-1].children[0];\n    html_node.innerHTML = output.data[HTML_MIME_TYPE];\n    var scripts = [];\n    var nodelist = html_node.querySelectorAll(\"script\");\n    for (var i in nodelist) {\n      if (nodelist.hasOwnProperty(i)) {\n        scripts.push(nodelist[i])\n      }\n    }\n\n    scripts.forEach( function (oldScript) {\n      var newScript = document.createElement(\"script\");\n      var attrs = [];\n      var nodemap = oldScript.attributes;\n      for (var j in nodemap) {\n        if (nodemap.hasOwnProperty(j)) {\n          attrs.push(nodemap[j])\n        }\n      }\n      attrs.forEach(function(attr) { newScript.setAttribute(attr.name, attr.value) });\n      newScript.appendChild(document.createTextNode(oldScript.innerHTML));\n      oldScript.parentNode.replaceChild(newScript, oldScript);\n    });\n    if (JS_MIME_TYPE in output.data) {\n      toinsert[nchildren-1].children[1].textContent = output.data[JS_MIME_TYPE];\n    }\n    output_area._hv_plot_id = id;\n    if ((window.Bokeh !== undefined) && (id in Bokeh.index)) {\n      window.PyViz.plot_index[id] = Bokeh.index[id];\n    } else {\n      window.PyViz.plot_index[id] = null;\n    }\n  } else if (output.metadata[EXEC_MIME_TYPE][\"server_id\"] !== undefined) {\n    var bk_div = document.createElement(\"div\");\n    bk_div.innerHTML = output.data[HTML_MIME_TYPE];\n    var script_attrs = bk_div.children[0].attributes;\n    for (var i = 0; i < script_attrs.length; i++) {\n      toinsert[toinsert.length - 1].childNodes[1].setAttribute(script_attrs[i].name, script_attrs[i].value);\n    }\n    // store reference to server id on output_area\n    output_area._bokeh_server_id = output.metadata[EXEC_MIME_TYPE][\"server_id\"];\n  }\n}\n\n/**\n * Handle when an output is cleared or removed\n */\nfunction handle_clear_output(event, handle) {\n  var id = handle.cell.output_area._hv_plot_id;\n  var server_id = handle.cell.output_area._bokeh_server_id;\n  if (((id === undefined) || !(id in PyViz.plot_index)) && (server_id !== undefined)) { return; }\n  var comm = window.PyViz.comm_manager.get_client_comm(\"hv-extension-comm\", \"hv-extension-comm\", function () {});\n  if (server_id !== null) {\n    comm.send({event_type: 'server_delete', 'id': server_id});\n    return;\n  } else if (comm !== null) {\n    comm.send({event_type: 'delete', 'id': id});\n  }\n  delete PyViz.plot_index[id];\n  if ((window.Bokeh !== undefined) & (id in window.Bokeh.index)) {\n    var doc = window.Bokeh.index[id].model.document\n    doc.clear();\n    const i = window.Bokeh.documents.indexOf(doc);\n    if (i > -1) {\n      window.Bokeh.documents.splice(i, 1);\n    }\n  }\n}\n\n/**\n * Handle kernel restart event\n */\nfunction handle_kernel_cleanup(event, handle) {\n  delete PyViz.comms[\"hv-extension-comm\"];\n  window.PyViz.plot_index = {}\n}\n\n/**\n * Handle update_display_data messages\n */\nfunction handle_update_output(event, handle) {\n  handle_clear_output(event, {cell: {output_area: handle.output_area}})\n  handle_add_output(event, handle)\n}\n\nfunction register_renderer(events, OutputArea) {\n  function append_mime(data, metadata, element) {\n    // create a DOM node to render to\n    var toinsert = this.create_output_subarea(\n    metadata,\n    CLASS_NAME,\n    EXEC_MIME_TYPE\n    );\n    this.keyboard_manager.register_events(toinsert);\n    // Render to node\n    var props = {data: data, metadata: metadata[EXEC_MIME_TYPE]};\n    render(props, toinsert[0]);\n    element.append(toinsert);\n    return toinsert\n  }\n\n  events.on('output_added.OutputArea', handle_add_output);\n  events.on('output_updated.OutputArea', handle_update_output);\n  events.on('clear_output.CodeCell', handle_clear_output);\n  events.on('delete.Cell', handle_clear_output);\n  events.on('kernel_ready.Kernel', handle_kernel_cleanup);\n\n  OutputArea.prototype.register_mime_type(EXEC_MIME_TYPE, append_mime, {\n    safe: true,\n    index: 0\n  });\n}\n\nif (window.Jupyter !== undefined) {\n  try {\n    var events = require('base/js/events');\n    var OutputArea = require('notebook/js/outputarea').OutputArea;\n    if (OutputArea.prototype.mime_types().indexOf(EXEC_MIME_TYPE) == -1) {\n      register_renderer(events, OutputArea);\n    }\n  } catch(err) {\n  }\n}\n"
     },
     "metadata": {},
     "output_type": "display_data"
    },
    {
     "data": {
      "text/html": [
       "<style>*[data-root-id],\n",
       "*[data-root-id] > * {\n",
       "  box-sizing: border-box;\n",
       "  font-family: var(--jp-ui-font-family);\n",
       "  font-size: var(--jp-ui-font-size1);\n",
       "  color: var(--vscode-editor-foreground, var(--jp-ui-font-color1));\n",
       "}\n",
       "\n",
       "/* Override VSCode background color */\n",
       ".cell-output-ipywidget-background:has(\n",
       "    > .cell-output-ipywidget-background > .lm-Widget > *[data-root-id]\n",
       "  ),\n",
       ".cell-output-ipywidget-background:has(> .lm-Widget > *[data-root-id]) {\n",
       "  background-color: transparent !important;\n",
       "}\n",
       "</style>"
      ]
     },
     "metadata": {},
     "output_type": "display_data"
    },
    {
     "data": {
      "application/vnd.holoviews_exec.v0+json": "",
      "text/html": [
       "<div id='7398e6d3-aae0-420c-83c3-50614862f58f'>\n",
       "  <div id=\"bbe2caef-a051-45af-9898-64688595bf11\" data-root-id=\"7398e6d3-aae0-420c-83c3-50614862f58f\" style=\"display: contents;\"></div>\n",
       "</div>\n",
       "<script type=\"application/javascript\">(function(root) {\n",
       "  var docs_json = {\"b3886781-6a87-4b6b-b770-bd5120a002d6\":{\"version\":\"3.2.2\",\"title\":\"Bokeh Application\",\"roots\":[{\"type\":\"object\",\"name\":\"panel.models.browser.BrowserInfo\",\"id\":\"7398e6d3-aae0-420c-83c3-50614862f58f\"},{\"type\":\"object\",\"name\":\"panel.models.comm_manager.CommManager\",\"id\":\"66ba6ea1-0a72-45cc-a4b8-bc4a4bb0b8cf\",\"attributes\":{\"plot_id\":\"7398e6d3-aae0-420c-83c3-50614862f58f\",\"comm_id\":\"4dfbfdaf23b340a881bb46db2ca7ba2f\",\"client_comm_id\":\"ca4bbd197bd348039b50b15d5a219871\"}}],\"defs\":[{\"type\":\"model\",\"name\":\"ReactiveHTML1\"},{\"type\":\"model\",\"name\":\"FlexBox1\",\"properties\":[{\"name\":\"align_content\",\"kind\":\"Any\",\"default\":\"flex-start\"},{\"name\":\"align_items\",\"kind\":\"Any\",\"default\":\"flex-start\"},{\"name\":\"flex_direction\",\"kind\":\"Any\",\"default\":\"row\"},{\"name\":\"flex_wrap\",\"kind\":\"Any\",\"default\":\"wrap\"},{\"name\":\"justify_content\",\"kind\":\"Any\",\"default\":\"flex-start\"}]},{\"type\":\"model\",\"name\":\"FloatPanel1\",\"properties\":[{\"name\":\"config\",\"kind\":\"Any\",\"default\":{\"type\":\"map\"}},{\"name\":\"contained\",\"kind\":\"Any\",\"default\":true},{\"name\":\"position\",\"kind\":\"Any\",\"default\":\"right-top\"},{\"name\":\"offsetx\",\"kind\":\"Any\",\"default\":null},{\"name\":\"offsety\",\"kind\":\"Any\",\"default\":null},{\"name\":\"theme\",\"kind\":\"Any\",\"default\":\"primary\"},{\"name\":\"status\",\"kind\":\"Any\",\"default\":\"normalized\"}]},{\"type\":\"model\",\"name\":\"GridStack1\",\"properties\":[{\"name\":\"mode\",\"kind\":\"Any\",\"default\":\"warn\"},{\"name\":\"ncols\",\"kind\":\"Any\",\"default\":null},{\"name\":\"nrows\",\"kind\":\"Any\",\"default\":null},{\"name\":\"allow_resize\",\"kind\":\"Any\",\"default\":true},{\"name\":\"allow_drag\",\"kind\":\"Any\",\"default\":true},{\"name\":\"state\",\"kind\":\"Any\",\"default\":[]}]},{\"type\":\"model\",\"name\":\"drag1\",\"properties\":[{\"name\":\"slider_width\",\"kind\":\"Any\",\"default\":5},{\"name\":\"slider_color\",\"kind\":\"Any\",\"default\":\"black\"},{\"name\":\"value\",\"kind\":\"Any\",\"default\":50}]},{\"type\":\"model\",\"name\":\"click1\",\"properties\":[{\"name\":\"terminal_output\",\"kind\":\"Any\",\"default\":\"\"},{\"name\":\"debug_name\",\"kind\":\"Any\",\"default\":\"\"},{\"name\":\"clears\",\"kind\":\"Any\",\"default\":0}]},{\"type\":\"model\",\"name\":\"FastWrapper1\",\"properties\":[{\"name\":\"object\",\"kind\":\"Any\",\"default\":null},{\"name\":\"style\",\"kind\":\"Any\",\"default\":null}]},{\"type\":\"model\",\"name\":\"NotificationAreaBase1\",\"properties\":[{\"name\":\"js_events\",\"kind\":\"Any\",\"default\":{\"type\":\"map\"}},{\"name\":\"position\",\"kind\":\"Any\",\"default\":\"bottom-right\"},{\"name\":\"_clear\",\"kind\":\"Any\",\"default\":0}]},{\"type\":\"model\",\"name\":\"NotificationArea1\",\"properties\":[{\"name\":\"js_events\",\"kind\":\"Any\",\"default\":{\"type\":\"map\"}},{\"name\":\"notifications\",\"kind\":\"Any\",\"default\":[]},{\"name\":\"position\",\"kind\":\"Any\",\"default\":\"bottom-right\"},{\"name\":\"_clear\",\"kind\":\"Any\",\"default\":0},{\"name\":\"types\",\"kind\":\"Any\",\"default\":[{\"type\":\"map\",\"entries\":[[\"type\",\"warning\"],[\"background\",\"#ffc107\"],[\"icon\",{\"type\":\"map\",\"entries\":[[\"className\",\"fas fa-exclamation-triangle\"],[\"tagName\",\"i\"],[\"color\",\"white\"]]}]]},{\"type\":\"map\",\"entries\":[[\"type\",\"info\"],[\"background\",\"#007bff\"],[\"icon\",{\"type\":\"map\",\"entries\":[[\"className\",\"fas fa-info-circle\"],[\"tagName\",\"i\"],[\"color\",\"white\"]]}]]}]}]},{\"type\":\"model\",\"name\":\"Notification\",\"properties\":[{\"name\":\"background\",\"kind\":\"Any\",\"default\":null},{\"name\":\"duration\",\"kind\":\"Any\",\"default\":3000},{\"name\":\"icon\",\"kind\":\"Any\",\"default\":null},{\"name\":\"message\",\"kind\":\"Any\",\"default\":\"\"},{\"name\":\"notification_type\",\"kind\":\"Any\",\"default\":null},{\"name\":\"_destroyed\",\"kind\":\"Any\",\"default\":false}]},{\"type\":\"model\",\"name\":\"TemplateActions1\",\"properties\":[{\"name\":\"open_modal\",\"kind\":\"Any\",\"default\":0},{\"name\":\"close_modal\",\"kind\":\"Any\",\"default\":0}]},{\"type\":\"model\",\"name\":\"BootstrapTemplateActions1\",\"properties\":[{\"name\":\"open_modal\",\"kind\":\"Any\",\"default\":0},{\"name\":\"close_modal\",\"kind\":\"Any\",\"default\":0}]},{\"type\":\"model\",\"name\":\"MaterialTemplateActions1\",\"properties\":[{\"name\":\"open_modal\",\"kind\":\"Any\",\"default\":0},{\"name\":\"close_modal\",\"kind\":\"Any\",\"default\":0}]}]}};\n",
       "  var render_items = [{\"docid\":\"b3886781-6a87-4b6b-b770-bd5120a002d6\",\"roots\":{\"7398e6d3-aae0-420c-83c3-50614862f58f\":\"bbe2caef-a051-45af-9898-64688595bf11\"},\"root_ids\":[\"7398e6d3-aae0-420c-83c3-50614862f58f\"]}];\n",
       "  var docs = Object.values(docs_json)\n",
       "  if (!docs) {\n",
       "    return\n",
       "  }\n",
       "  const py_version = docs[0].version.replace('rc', '-rc.').replace('.dev', '-dev.')\n",
       "  const is_dev = py_version.indexOf(\"+\") !== -1 || py_version.indexOf(\"-\") !== -1\n",
       "  function embed_document(root) {\n",
       "    var Bokeh = get_bokeh(root)\n",
       "    Bokeh.embed.embed_items_notebook(docs_json, render_items);\n",
       "    for (const render_item of render_items) {\n",
       "      for (const root_id of render_item.root_ids) {\n",
       "\tconst id_el = document.getElementById(root_id)\n",
       "\tif (id_el.children.length && (id_el.children[0].className === 'bk-root')) {\n",
       "\t  const root_el = id_el.children[0]\n",
       "\t  root_el.id = root_el.id + '-rendered'\n",
       "\t}\n",
       "      }\n",
       "    }\n",
       "  }\n",
       "  function get_bokeh(root) {\n",
       "    if (root.Bokeh === undefined) {\n",
       "      return null\n",
       "    } else if (root.Bokeh.version !== py_version && !is_dev) {\n",
       "      if (root.Bokeh.versions === undefined || !root.Bokeh.versions.has(py_version)) {\n",
       "\treturn null\n",
       "      }\n",
       "      return root.Bokeh.versions.get(py_version);\n",
       "    } else if (root.Bokeh.version === py_version) {\n",
       "      return root.Bokeh\n",
       "    }\n",
       "    return null\n",
       "  }\n",
       "  function is_loaded(root) {\n",
       "    var Bokeh = get_bokeh(root)\n",
       "    return (Bokeh != null && Bokeh.Panel !== undefined)\n",
       "  }\n",
       "  if (is_loaded(root)) {\n",
       "    embed_document(root);\n",
       "  } else {\n",
       "    var attempts = 0;\n",
       "    var timer = setInterval(function(root) {\n",
       "      if (is_loaded(root)) {\n",
       "        clearInterval(timer);\n",
       "        embed_document(root);\n",
       "      } else if (document.readyState == \"complete\") {\n",
       "        attempts++;\n",
       "        if (attempts > 200) {\n",
       "          clearInterval(timer);\n",
       "\t  var Bokeh = get_bokeh(root)\n",
       "\t  if (Bokeh == null || Bokeh.Panel == null) {\n",
       "            console.warn(\"Panel: ERROR: Unable to run Panel code because Bokeh or Panel library is missing\");\n",
       "\t  } else {\n",
       "\t    console.warn(\"Panel: WARNING: Attempting to render but not all required libraries could be resolved.\")\n",
       "\t    embed_document(root)\n",
       "\t  }\n",
       "        }\n",
       "      }\n",
       "    }, 25, root)\n",
       "  }\n",
       "})(window);</script>"
      ]
     },
     "metadata": {
      "application/vnd.holoviews_exec.v0+json": {
       "id": "7398e6d3-aae0-420c-83c3-50614862f58f"
      }
     },
     "output_type": "display_data"
    },
    {
     "data": {},
     "metadata": {},
     "output_type": "display_data"
    },
    {
     "data": {
      "application/vnd.holoviews_exec.v0+json": "",
      "text/html": [
       "<div id='1fb3687e-26f9-4c25-938b-dc418d1c6910'>\n",
       "  <div id=\"fb402c3d-ac3d-400b-ab45-4823a3a7c242\" data-root-id=\"1fb3687e-26f9-4c25-938b-dc418d1c6910\" style=\"display: contents;\"></div>\n",
       "</div>\n",
       "<script type=\"application/javascript\">(function(root) {\n",
       "  var docs_json = {\"ea98307a-be8f-4245-a175-b0f10ea8a201\":{\"version\":\"3.2.2\",\"title\":\"Bokeh Application\",\"roots\":[{\"type\":\"object\",\"name\":\"panel.models.layout.Column\",\"id\":\"1fb3687e-26f9-4c25-938b-dc418d1c6910\",\"attributes\":{\"name\":\"Column00119\",\"stylesheets\":[\"\\n:host(.pn-loading.pn-arc):before, .pn-loading.pn-arc:before {\\n  background-image: url(\\\"data:image/svg+xml;base64,PHN2ZyB4bWxucz0iaHR0cDovL3d3dy53My5vcmcvMjAwMC9zdmciIHN0eWxlPSJtYXJnaW46IGF1dG87IGJhY2tncm91bmQ6IG5vbmU7IGRpc3BsYXk6IGJsb2NrOyBzaGFwZS1yZW5kZXJpbmc6IGF1dG87IiB2aWV3Qm94PSIwIDAgMTAwIDEwMCIgcHJlc2VydmVBc3BlY3RSYXRpbz0ieE1pZFlNaWQiPiAgPGNpcmNsZSBjeD0iNTAiIGN5PSI1MCIgZmlsbD0ibm9uZSIgc3Ryb2tlPSIjYzNjM2MzIiBzdHJva2Utd2lkdGg9IjEwIiByPSIzNSIgc3Ryb2tlLWRhc2hhcnJheT0iMTY0LjkzMzYxNDMxMzQ2NDE1IDU2Ljk3Nzg3MTQzNzgyMTM4Ij4gICAgPGFuaW1hdGVUcmFuc2Zvcm0gYXR0cmlidXRlTmFtZT0idHJhbnNmb3JtIiB0eXBlPSJyb3RhdGUiIHJlcGVhdENvdW50PSJpbmRlZmluaXRlIiBkdXI9IjFzIiB2YWx1ZXM9IjAgNTAgNTA7MzYwIDUwIDUwIiBrZXlUaW1lcz0iMDsxIj48L2FuaW1hdGVUcmFuc2Zvcm0+ICA8L2NpcmNsZT48L3N2Zz4=\\\");\\n  background-size: auto calc(min(50%, 400px));\\n}\",{\"type\":\"object\",\"name\":\"ImportedStyleSheet\",\"id\":\"b09c4431-bc76-40a4-a408-fbaad8e5c866\",\"attributes\":{\"url\":\"https://cdn.holoviz.org/panel/1.2.2/dist/css/loading.css\"}},{\"type\":\"object\",\"name\":\"ImportedStyleSheet\",\"id\":\"1cf13039-599d-4e1f-b8e7-46bf2dfb28b3\",\"attributes\":{\"url\":\"https://cdn.holoviz.org/panel/1.2.2/dist/css/listpanel.css\"}},{\"type\":\"object\",\"name\":\"ImportedStyleSheet\",\"id\":\"e8d0d90d-c81a-48b7-a9ef-3b9227626cb7\",\"attributes\":{\"url\":\"https://cdn.holoviz.org/panel/1.2.2/dist/bundled/theme/default.css\"}},{\"type\":\"object\",\"name\":\"ImportedStyleSheet\",\"id\":\"2b16a105-8720-4046-a1f8-d30f2343ff9d\",\"attributes\":{\"url\":\"https://cdn.holoviz.org/panel/1.2.2/dist/bundled/theme/native.css\"}}],\"margin\":0,\"align\":\"start\",\"children\":[{\"type\":\"object\",\"name\":\"panel.models.layout.Column\",\"id\":\"9f555bde-3070-4857-917e-a7ade09b7e8f\",\"attributes\":{\"name\":\"Column00132\",\"stylesheets\":[\"\\n:host(.pn-loading.pn-arc):before, .pn-loading.pn-arc:before {\\n  background-image: url(\\\"data:image/svg+xml;base64,PHN2ZyB4bWxucz0iaHR0cDovL3d3dy53My5vcmcvMjAwMC9zdmciIHN0eWxlPSJtYXJnaW46IGF1dG87IGJhY2tncm91bmQ6IG5vbmU7IGRpc3BsYXk6IGJsb2NrOyBzaGFwZS1yZW5kZXJpbmc6IGF1dG87IiB2aWV3Qm94PSIwIDAgMTAwIDEwMCIgcHJlc2VydmVBc3BlY3RSYXRpbz0ieE1pZFlNaWQiPiAgPGNpcmNsZSBjeD0iNTAiIGN5PSI1MCIgZmlsbD0ibm9uZSIgc3Ryb2tlPSIjYzNjM2MzIiBzdHJva2Utd2lkdGg9IjEwIiByPSIzNSIgc3Ryb2tlLWRhc2hhcnJheT0iMTY0LjkzMzYxNDMxMzQ2NDE1IDU2Ljk3Nzg3MTQzNzgyMTM4Ij4gICAgPGFuaW1hdGVUcmFuc2Zvcm0gYXR0cmlidXRlTmFtZT0idHJhbnNmb3JtIiB0eXBlPSJyb3RhdGUiIHJlcGVhdENvdW50PSJpbmRlZmluaXRlIiBkdXI9IjFzIiB2YWx1ZXM9IjAgNTAgNTA7MzYwIDUwIDUwIiBrZXlUaW1lcz0iMDsxIj48L2FuaW1hdGVUcmFuc2Zvcm0+ICA8L2NpcmNsZT48L3N2Zz4=\\\");\\n  background-size: auto calc(min(50%, 400px));\\n}\",{\"id\":\"b09c4431-bc76-40a4-a408-fbaad8e5c866\"},{\"id\":\"1cf13039-599d-4e1f-b8e7-46bf2dfb28b3\"},{\"id\":\"e8d0d90d-c81a-48b7-a9ef-3b9227626cb7\"},{\"id\":\"2b16a105-8720-4046-a1f8-d30f2343ff9d\"}],\"margin\":0,\"align\":\"start\",\"children\":[{\"type\":\"object\",\"name\":\"Slider\",\"id\":\"1214c22c-fef6-4fa1-938c-f32483dd93cf\",\"attributes\":{\"stylesheets\":[\"\\n:host(.pn-loading.pn-arc):before, .pn-loading.pn-arc:before {\\n  background-image: url(\\\"data:image/svg+xml;base64,PHN2ZyB4bWxucz0iaHR0cDovL3d3dy53My5vcmcvMjAwMC9zdmciIHN0eWxlPSJtYXJnaW46IGF1dG87IGJhY2tncm91bmQ6IG5vbmU7IGRpc3BsYXk6IGJsb2NrOyBzaGFwZS1yZW5kZXJpbmc6IGF1dG87IiB2aWV3Qm94PSIwIDAgMTAwIDEwMCIgcHJlc2VydmVBc3BlY3RSYXRpbz0ieE1pZFlNaWQiPiAgPGNpcmNsZSBjeD0iNTAiIGN5PSI1MCIgZmlsbD0ibm9uZSIgc3Ryb2tlPSIjYzNjM2MzIiBzdHJva2Utd2lkdGg9IjEwIiByPSIzNSIgc3Ryb2tlLWRhc2hhcnJheT0iMTY0LjkzMzYxNDMxMzQ2NDE1IDU2Ljk3Nzg3MTQzNzgyMTM4Ij4gICAgPGFuaW1hdGVUcmFuc2Zvcm0gYXR0cmlidXRlTmFtZT0idHJhbnNmb3JtIiB0eXBlPSJyb3RhdGUiIHJlcGVhdENvdW50PSJpbmRlZmluaXRlIiBkdXI9IjFzIiB2YWx1ZXM9IjAgNTAgNTA7MzYwIDUwIDUwIiBrZXlUaW1lcz0iMDsxIj48L2FuaW1hdGVUcmFuc2Zvcm0+ICA8L2NpcmNsZT48L3N2Zz4=\\\");\\n  background-size: auto calc(min(50%, 400px));\\n}\",{\"id\":\"b09c4431-bc76-40a4-a408-fbaad8e5c866\"},{\"id\":\"e8d0d90d-c81a-48b7-a9ef-3b9227626cb7\"},{\"id\":\"2b16a105-8720-4046-a1f8-d30f2343ff9d\"}],\"margin\":[5,10],\"align\":\"start\",\"title\":\"depth\",\"start\":1,\"end\":10,\"value\":1}}]}},{\"type\":\"object\",\"name\":\"Row\",\"id\":\"4bf4df09-3c71-4f36-a39c-9ee143914bd8\",\"attributes\":{\"name\":\"Row00129\",\"stylesheets\":[\"\\n:host(.pn-loading.pn-arc):before, .pn-loading.pn-arc:before {\\n  background-image: url(\\\"data:image/svg+xml;base64,PHN2ZyB4bWxucz0iaHR0cDovL3d3dy53My5vcmcvMjAwMC9zdmciIHN0eWxlPSJtYXJnaW46IGF1dG87IGJhY2tncm91bmQ6IG5vbmU7IGRpc3BsYXk6IGJsb2NrOyBzaGFwZS1yZW5kZXJpbmc6IGF1dG87IiB2aWV3Qm94PSIwIDAgMTAwIDEwMCIgcHJlc2VydmVBc3BlY3RSYXRpbz0ieE1pZFlNaWQiPiAgPGNpcmNsZSBjeD0iNTAiIGN5PSI1MCIgZmlsbD0ibm9uZSIgc3Ryb2tlPSIjYzNjM2MzIiBzdHJva2Utd2lkdGg9IjEwIiByPSIzNSIgc3Ryb2tlLWRhc2hhcnJheT0iMTY0LjkzMzYxNDMxMzQ2NDE1IDU2Ljk3Nzg3MTQzNzgyMTM4Ij4gICAgPGFuaW1hdGVUcmFuc2Zvcm0gYXR0cmlidXRlTmFtZT0idHJhbnNmb3JtIiB0eXBlPSJyb3RhdGUiIHJlcGVhdENvdW50PSJpbmRlZmluaXRlIiBkdXI9IjFzIiB2YWx1ZXM9IjAgNTAgNTA7MzYwIDUwIDUwIiBrZXlUaW1lcz0iMDsxIj48L2FuaW1hdGVUcmFuc2Zvcm0+ICA8L2NpcmNsZT48L3N2Zz4=\\\");\\n  background-size: auto calc(min(50%, 400px));\\n}\",{\"id\":\"b09c4431-bc76-40a4-a408-fbaad8e5c866\"},{\"id\":\"1cf13039-599d-4e1f-b8e7-46bf2dfb28b3\"},{\"id\":\"e8d0d90d-c81a-48b7-a9ef-3b9227626cb7\"},{\"id\":\"2b16a105-8720-4046-a1f8-d30f2343ff9d\"}],\"margin\":0,\"align\":\"start\",\"children\":[{\"type\":\"object\",\"name\":\"panel.models.markup.HTML\",\"id\":\"897e9191-c8d4-4bf6-a733-9498cefa17f9\",\"attributes\":{\"stylesheets\":[\"\\n:host(.pn-loading.pn-arc):before, .pn-loading.pn-arc:before {\\n  background-image: url(\\\"data:image/svg+xml;base64,PHN2ZyB4bWxucz0iaHR0cDovL3d3dy53My5vcmcvMjAwMC9zdmciIHN0eWxlPSJtYXJnaW46IGF1dG87IGJhY2tncm91bmQ6IG5vbmU7IGRpc3BsYXk6IGJsb2NrOyBzaGFwZS1yZW5kZXJpbmc6IGF1dG87IiB2aWV3Qm94PSIwIDAgMTAwIDEwMCIgcHJlc2VydmVBc3BlY3RSYXRpbz0ieE1pZFlNaWQiPiAgPGNpcmNsZSBjeD0iNTAiIGN5PSI1MCIgZmlsbD0ibm9uZSIgc3Ryb2tlPSIjYzNjM2MzIiBzdHJva2Utd2lkdGg9IjEwIiByPSIzNSIgc3Ryb2tlLWRhc2hhcnJheT0iMTY0LjkzMzYxNDMxMzQ2NDE1IDU2Ljk3Nzg3MTQzNzgyMTM4Ij4gICAgPGFuaW1hdGVUcmFuc2Zvcm0gYXR0cmlidXRlTmFtZT0idHJhbnNmb3JtIiB0eXBlPSJyb3RhdGUiIHJlcGVhdENvdW50PSJpbmRlZmluaXRlIiBkdXI9IjFzIiB2YWx1ZXM9IjAgNTAgNTA7MzYwIDUwIDUwIiBrZXlUaW1lcz0iMDsxIj48L2FuaW1hdGVUcmFuc2Zvcm0+ICA8L2NpcmNsZT48L3N2Zz4=\\\");\\n  background-size: auto calc(min(50%, 400px));\\n}\",{\"id\":\"b09c4431-bc76-40a4-a408-fbaad8e5c866\"},{\"id\":\"e8d0d90d-c81a-48b7-a9ef-3b9227626cb7\"},{\"id\":\"2b16a105-8720-4046-a1f8-d30f2343ff9d\"}],\"width\":864,\"height\":720,\"min_width\":864,\"min_height\":720,\"margin\":[5,10],\"align\":\"start\",\"text\":\"&lt;img src=&quot;data:image/png;base64,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&quot;  style=&quot;max-width: 100%; max-height: 100%; object-fit: contain; width: 864px; height: 720px;&quot;&gt;&lt;/img&gt;\"}}]}}]}},{\"type\":\"object\",\"name\":\"panel.models.comm_manager.CommManager\",\"id\":\"7506ce5c-18fb-4326-a5b2-22dc84eb8908\",\"attributes\":{\"plot_id\":\"1fb3687e-26f9-4c25-938b-dc418d1c6910\",\"comm_id\":\"0bea428d67104bdbb95bd51882300fe7\",\"client_comm_id\":\"e15f2d0b416c4300899534a010356acb\"}}],\"defs\":[{\"type\":\"model\",\"name\":\"ReactiveHTML1\"},{\"type\":\"model\",\"name\":\"FlexBox1\",\"properties\":[{\"name\":\"align_content\",\"kind\":\"Any\",\"default\":\"flex-start\"},{\"name\":\"align_items\",\"kind\":\"Any\",\"default\":\"flex-start\"},{\"name\":\"flex_direction\",\"kind\":\"Any\",\"default\":\"row\"},{\"name\":\"flex_wrap\",\"kind\":\"Any\",\"default\":\"wrap\"},{\"name\":\"justify_content\",\"kind\":\"Any\",\"default\":\"flex-start\"}]},{\"type\":\"model\",\"name\":\"FloatPanel1\",\"properties\":[{\"name\":\"config\",\"kind\":\"Any\",\"default\":{\"type\":\"map\"}},{\"name\":\"contained\",\"kind\":\"Any\",\"default\":true},{\"name\":\"position\",\"kind\":\"Any\",\"default\":\"right-top\"},{\"name\":\"offsetx\",\"kind\":\"Any\",\"default\":null},{\"name\":\"offsety\",\"kind\":\"Any\",\"default\":null},{\"name\":\"theme\",\"kind\":\"Any\",\"default\":\"primary\"},{\"name\":\"status\",\"kind\":\"Any\",\"default\":\"normalized\"}]},{\"type\":\"model\",\"name\":\"GridStack1\",\"properties\":[{\"name\":\"mode\",\"kind\":\"Any\",\"default\":\"warn\"},{\"name\":\"ncols\",\"kind\":\"Any\",\"default\":null},{\"name\":\"nrows\",\"kind\":\"Any\",\"default\":null},{\"name\":\"allow_resize\",\"kind\":\"Any\",\"default\":true},{\"name\":\"allow_drag\",\"kind\":\"Any\",\"default\":true},{\"name\":\"state\",\"kind\":\"Any\",\"default\":[]}]},{\"type\":\"model\",\"name\":\"drag1\",\"properties\":[{\"name\":\"slider_width\",\"kind\":\"Any\",\"default\":5},{\"name\":\"slider_color\",\"kind\":\"Any\",\"default\":\"black\"},{\"name\":\"value\",\"kind\":\"Any\",\"default\":50}]},{\"type\":\"model\",\"name\":\"click1\",\"properties\":[{\"name\":\"terminal_output\",\"kind\":\"Any\",\"default\":\"\"},{\"name\":\"debug_name\",\"kind\":\"Any\",\"default\":\"\"},{\"name\":\"clears\",\"kind\":\"Any\",\"default\":0}]},{\"type\":\"model\",\"name\":\"FastWrapper1\",\"properties\":[{\"name\":\"object\",\"kind\":\"Any\",\"default\":null},{\"name\":\"style\",\"kind\":\"Any\",\"default\":null}]},{\"type\":\"model\",\"name\":\"NotificationAreaBase1\",\"properties\":[{\"name\":\"js_events\",\"kind\":\"Any\",\"default\":{\"type\":\"map\"}},{\"name\":\"position\",\"kind\":\"Any\",\"default\":\"bottom-right\"},{\"name\":\"_clear\",\"kind\":\"Any\",\"default\":0}]},{\"type\":\"model\",\"name\":\"NotificationArea1\",\"properties\":[{\"name\":\"js_events\",\"kind\":\"Any\",\"default\":{\"type\":\"map\"}},{\"name\":\"notifications\",\"kind\":\"Any\",\"default\":[]},{\"name\":\"position\",\"kind\":\"Any\",\"default\":\"bottom-right\"},{\"name\":\"_clear\",\"kind\":\"Any\",\"default\":0},{\"name\":\"types\",\"kind\":\"Any\",\"default\":[{\"type\":\"map\",\"entries\":[[\"type\",\"warning\"],[\"background\",\"#ffc107\"],[\"icon\",{\"type\":\"map\",\"entries\":[[\"className\",\"fas fa-exclamation-triangle\"],[\"tagName\",\"i\"],[\"color\",\"white\"]]}]]},{\"type\":\"map\",\"entries\":[[\"type\",\"info\"],[\"background\",\"#007bff\"],[\"icon\",{\"type\":\"map\",\"entries\":[[\"className\",\"fas fa-info-circle\"],[\"tagName\",\"i\"],[\"color\",\"white\"]]}]]}]}]},{\"type\":\"model\",\"name\":\"Notification\",\"properties\":[{\"name\":\"background\",\"kind\":\"Any\",\"default\":null},{\"name\":\"duration\",\"kind\":\"Any\",\"default\":3000},{\"name\":\"icon\",\"kind\":\"Any\",\"default\":null},{\"name\":\"message\",\"kind\":\"Any\",\"default\":\"\"},{\"name\":\"notification_type\",\"kind\":\"Any\",\"default\":null},{\"name\":\"_destroyed\",\"kind\":\"Any\",\"default\":false}]},{\"type\":\"model\",\"name\":\"TemplateActions1\",\"properties\":[{\"name\":\"open_modal\",\"kind\":\"Any\",\"default\":0},{\"name\":\"close_modal\",\"kind\":\"Any\",\"default\":0}]},{\"type\":\"model\",\"name\":\"BootstrapTemplateActions1\",\"properties\":[{\"name\":\"open_modal\",\"kind\":\"Any\",\"default\":0},{\"name\":\"close_modal\",\"kind\":\"Any\",\"default\":0}]},{\"type\":\"model\",\"name\":\"MaterialTemplateActions1\",\"properties\":[{\"name\":\"open_modal\",\"kind\":\"Any\",\"default\":0},{\"name\":\"close_modal\",\"kind\":\"Any\",\"default\":0}]}]}};\n",
       "  var render_items = [{\"docid\":\"ea98307a-be8f-4245-a175-b0f10ea8a201\",\"roots\":{\"1fb3687e-26f9-4c25-938b-dc418d1c6910\":\"fb402c3d-ac3d-400b-ab45-4823a3a7c242\"},\"root_ids\":[\"1fb3687e-26f9-4c25-938b-dc418d1c6910\"]}];\n",
       "  var docs = Object.values(docs_json)\n",
       "  if (!docs) {\n",
       "    return\n",
       "  }\n",
       "  const py_version = docs[0].version.replace('rc', '-rc.').replace('.dev', '-dev.')\n",
       "  const is_dev = py_version.indexOf(\"+\") !== -1 || py_version.indexOf(\"-\") !== -1\n",
       "  function embed_document(root) {\n",
       "    var Bokeh = get_bokeh(root)\n",
       "    Bokeh.embed.embed_items_notebook(docs_json, render_items);\n",
       "    for (const render_item of render_items) {\n",
       "      for (const root_id of render_item.root_ids) {\n",
       "\tconst id_el = document.getElementById(root_id)\n",
       "\tif (id_el.children.length && (id_el.children[0].className === 'bk-root')) {\n",
       "\t  const root_el = id_el.children[0]\n",
       "\t  root_el.id = root_el.id + '-rendered'\n",
       "\t}\n",
       "      }\n",
       "    }\n",
       "  }\n",
       "  function get_bokeh(root) {\n",
       "    if (root.Bokeh === undefined) {\n",
       "      return null\n",
       "    } else if (root.Bokeh.version !== py_version && !is_dev) {\n",
       "      if (root.Bokeh.versions === undefined || !root.Bokeh.versions.has(py_version)) {\n",
       "\treturn null\n",
       "      }\n",
       "      return root.Bokeh.versions.get(py_version);\n",
       "    } else if (root.Bokeh.version === py_version) {\n",
       "      return root.Bokeh\n",
       "    }\n",
       "    return null\n",
       "  }\n",
       "  function is_loaded(root) {\n",
       "    var Bokeh = get_bokeh(root)\n",
       "    return (Bokeh != null && Bokeh.Panel !== undefined)\n",
       "  }\n",
       "  if (is_loaded(root)) {\n",
       "    embed_document(root);\n",
       "  } else {\n",
       "    var attempts = 0;\n",
       "    var timer = setInterval(function(root) {\n",
       "      if (is_loaded(root)) {\n",
       "        clearInterval(timer);\n",
       "        embed_document(root);\n",
       "      } else if (document.readyState == \"complete\") {\n",
       "        attempts++;\n",
       "        if (attempts > 200) {\n",
       "          clearInterval(timer);\n",
       "\t  var Bokeh = get_bokeh(root)\n",
       "\t  if (Bokeh == null || Bokeh.Panel == null) {\n",
       "            console.warn(\"Panel: ERROR: Unable to run Panel code because Bokeh or Panel library is missing\");\n",
       "\t  } else {\n",
       "\t    console.warn(\"Panel: WARNING: Attempting to render but not all required libraries could be resolved.\")\n",
       "\t    embed_document(root)\n",
       "\t  }\n",
       "        }\n",
       "      }\n",
       "    }, 25, root)\n",
       "  }\n",
       "})(window);</script>"
      ],
      "text/plain": [
       "Column\n",
       "    [0] Column\n",
       "        [0] IntSlider(end=10, name='depth', start=1, value=1)\n",
       "    [1] Row\n",
       "        [0] Matplotlib(Figure, name='interactive00116')"
      ]
     },
     "execution_count": 25,
     "metadata": {
      "application/vnd.holoviews_exec.v0+json": {
       "id": "1fb3687e-26f9-4c25-938b-dc418d1c6910"
      }
     },
     "output_type": "execute_result"
    },
    {
     "data": {
      "text/plain": [
       "<Figure size 640x480 with 0 Axes>"
      ]
     },
     "metadata": {},
     "output_type": "display_data"
    },
    {
     "data": {
      "image/png": "[encoded data removed]",
      "text/plain": [
       "<Figure size 864x720 with 1 Axes>"
      ]
     },
     "metadata": {},
     "output_type": "display_data"
    }
   ],
   "source": [
    "import panel as pn\n",
    "from panel import widgets\n",
    "from panel.interact import interact\n",
    "import matplotlib\n",
    "\n",
    "pn.extension()\n",
    "\n",
    "from sklearn.datasets import fetch_california_housing\n",
    "\n",
    "cal = fetch_california_housing()\n",
    "X_reg = cal.data\n",
    "y_reg = cal.target\n",
    "\n",
    "# Define a function to train a DecisionTreeRegressor with variable depth\n",
    "\n",
    "def plot_depth_regression(depth):\n",
    "    plt.clf()\n",
    "    height_scale=5;width_scale=6\n",
    "    reg_tree = DecisionTreeRegressor(max_depth=depth, random_state=42)\n",
    "    reg_tree.fit(X_reg, y_reg)\n",
    "    score = reg_tree.score(X_reg, y_reg)\n",
    "    width = min(35, depth * 6)\n",
    "    height = min(20, depth * 5 )\n",
    "    fontsize = 11 - depth\n",
    "    fig = plt.figure(figsize=(width, height))    \n",
    "    plot_tree(reg_tree, feature_names=cal['feature_names'], fontsize = fontsize, filled=True)\n",
    "    plt.title(f\"Regression Tree Score: {score:.2f}\", fontsize=14)        \n",
    "    return fig\n",
    "\n",
    "depth_selector = pn.widgets.IntSlider(name='depth', start=1, end=10, value=1)\n",
    "pn.interact(plot_depth_regression, depth=depth_selector)\n",
    "#pn.interact(f, depth=depth_selector).embed(max_opts=10)"
   ]
  },
  {
   "cell_type": "markdown",
   "id": "5a34af0d-efb9-4b39-ab96-abab1047e49c",
   "metadata": {},
   "source": [
    "![](img/eva-well-done.png)"
   ]
  }
 ],
 "metadata": {
  "kernelspec": {
   "display_name": "Python 3 (ipykernel)",
   "language": "python",
   "name": "python3"
  },
  "language_info": {
   "codemirror_mode": {
    "name": "ipython",
    "version": 3
   },
   "file_extension": ".py",
   "mimetype": "text/x-python",
   "name": "python",
   "nbconvert_exporter": "python",
   "pygments_lexer": "ipython3",
   "version": "3.10.0"
  },
  "otter": {
   "OK_FORMAT": true,
   "tests": {
    "q1.1": {
     "name": "q1.1",
     "points": 3,
     "suites": [
      {
       "cases": [
        {
         "code": ">>> assert len(terminology) == 5, \"Please answer all the 4 questions.\"\n>>> assert sha1(''.join(terminology).encode(\"utf-8\").lower()).hexdigest() == '24ebc14140161ec925b8095832f2be7dfa63beb7', \"Your answers do not match the expected solution. Please try again.\"\n",
         "hidden": false,
         "locked": false
        }
       ],
       "scored": true,
       "setup": "",
       "teardown": "",
       "type": "doctest"
      }
     ]
    },
    "q2.": {
     "name": "q2.",
     "points": 1,
     "suites": [
      {
       "cases": [
        {
         "code": ">>> assert not toy_depth is None, \"Are you using the provided variable?\"\n>>> assert (sha1(str(toy_depth).encode(\"utf-8\")).hexdigest() == \"77de68daecd823babbb58edb1c8e14d7106e83bb\"), \"The depth is incorrect\"\n",
         "hidden": false,
         "locked": false
        }
       ],
       "scored": true,
       "setup": "",
       "teardown": "",
       "type": "doctest"
      }
     ]
    },
    "q2.1": {
     "name": "q2.1",
     "points": 1,
     "suites": [
      {
       "cases": [
        {
         "code": ">>> assert not supportive_colleagues_acc is None, \"Are you setting the provided variable?\"\n>>> assert (\n...     sha1(str(supportive_colleagues_acc).encode(\"utf8\")).hexdigest() == \"1469842b4307d36cccb487dc989f21016daadbcc\"), \"Your answer is incorrect, see traceback above.\"\n",
         "hidden": false,
         "locked": false
        }
       ],
       "scored": true,
       "setup": "",
       "teardown": "",
       "type": "doctest"
      }
     ]
    },
    "q2.2": {
     "name": "q2.2",
     "points": 1,
     "suites": [
      {
       "cases": [
        {
         "code": ">>> assert not X_train_toy is None, \"Are you using the correct variable?\"\n>>> assert not y_train_toy is None, \"Are you using the correct variable?\"\n>>> assert X_train_toy.shape == (10, 3), \"X_train_toy shape is incorrect\"\n>>> assert y_train_toy.shape == (10,), \"y_train_toy shape is incorrect\"\n",
         "hidden": false,
         "locked": false
        }
       ],
       "scored": true,
       "setup": "",
       "teardown": "",
       "type": "doctest"
      }
     ]
    },
    "q2.3": {
     "name": "q2.3",
     "points": 1,
     "suites": [
      {
       "cases": [
        {
         "code": ">>> assert isinstance(toy_tree, DecisionTreeClassifier), \"DecisionTreeClassifier was not created properly\"\n>>> assert (toy_tree.get_params().get(\"random_state\") == 16), \"Please set the random state to 16\"\n",
         "hidden": false,
         "locked": false
        }
       ],
       "scored": true,
       "setup": "",
       "teardown": "",
       "type": "doctest"
      }
     ]
    },
    "q2.4": {
     "name": "q2.4",
     "points": 1,
     "suites": [
      {
       "cases": [
        {
         "code": ">>> assert toy_tree.get_depth() in range(2, 4, 1), \"DecisionTreeClassifier was not fitted properly\"\n>>> assert toy_tree.get_n_leaves() in range(3, 5, 1), \"DecisionTreeClassifier was not fitted properly\"\n",
         "hidden": false,
         "locked": false
        }
       ],
       "scored": true,
       "setup": "",
       "teardown": "",
       "type": "doctest"
      }
     ]
    },
    "q2.5": {
     "name": "q2.5",
     "points": 1,
     "suites": [
      {
       "cases": [
        {
         "code": ">>> assert not toy_tree_viz is None, \"Are you using the provided variable?\"\n>>> assert sha1(str(len(feature_names)).encode(\"utf-8\")).hexdigest() == '77de68daecd823babbb58edb1c8e14d7106e83bb', \"Are you passing the correct list of features?\"\n>>> assert sha1(str(sorted(list(class_names))).encode(\"utf-8\")).hexdigest() == '4621a7584156c08258ad22a7adc86667984d9382', \"Are you passing the correct list of classes?\"\n",
         "hidden": false,
         "locked": false
        }
       ],
       "scored": true,
       "setup": "",
       "teardown": "",
       "type": "doctest"
      }
     ]
    },
    "q2.7": {
     "name": "q2.7",
     "points": 1,
     "suites": [
      {
       "cases": [
        {
         "code": ">>> assert not train_acc is None, \"Are you using the provided train_acc variable?\"\n>>> assert (sha1(str(np.round(train_acc, 2)).encode(\"utf-8\")).hexdigest() == \"1469842b4307d36cccb487dc989f21016daadbcc\"), \"The score is incorrect\"\n",
         "hidden": false,
         "locked": false
        }
       ],
       "scored": true,
       "setup": "",
       "teardown": "",
       "type": "doctest"
      }
     ]
    },
    "q2.8": {
     "name": "q2.8",
     "points": [
      1,
      1
     ],
     "suites": [
      {
       "cases": [
        {
         "code": ">>> assert not predictions is None, \"Are you storing predictions in the provided variable predictions?\"\n>>> assert predictions.count(\"happy\") == 2, \"Your predictions do not look as expected.\"\n>>> assert predictions.count(\"unhappy\") == 2, \"Your predictions do not look as expected.\"\n",
         "hidden": false,
         "locked": false
        },
        {
         "code": ">>> assert not happy_job_indices is None, \"Are you storing the happy job indices in the provided variable?\"\n>>> assert len(happy_job_indices) == 2, \"The length of happy_job_indices list seems wrong. \"\n>>> assert sha1(str(sorted(happy_job_indices)).encode('utf-8')).hexdigest() == 'c48ac7e6c9a92c1a4160e3096f915d1651e6c18f', \"The happy job indices do not look correct.\"\n",
         "hidden": false,
         "locked": false
        }
       ],
       "scored": true,
       "setup": "",
       "teardown": "",
       "type": "doctest"
      }
     ]
    }
   }
  }
 },
 "nbformat": 4,
 "nbformat_minor": 5
}
